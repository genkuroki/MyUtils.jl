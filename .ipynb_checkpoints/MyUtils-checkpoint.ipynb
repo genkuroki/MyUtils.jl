{
 "cells": [
  {
   "cell_type": "code",
   "execution_count": 1,
   "metadata": {},
   "outputs": [
    {
     "name": "stdout",
     "output_type": "stream",
     "text": [
      "VERSION = v\"1.7.0-DEV.650\"\n"
     ]
    }
   ],
   "source": [
    "@show VERSION;"
   ]
  },
  {
   "cell_type": "code",
   "execution_count": 2,
   "metadata": {},
   "outputs": [],
   "source": [
    "if isfile(\"Project.toml\")\n",
    "    using Pkg\n",
    "    Pkg.activate(\".\")\n",
    "    using Revise\n",
    "end"
   ]
  },
  {
   "cell_type": "code",
   "execution_count": 3,
   "metadata": {},
   "outputs": [
    {
     "name": "stdout",
     "output_type": "stream",
     "text": [
      "nthreads() = 8\n"
     ]
    }
   ],
   "source": [
    "using MyUtils\n",
    "using Base.Threads\n",
    "using Distributed\n",
    "using Random\n",
    "\n",
    "@show nthreads();"
   ]
  },
  {
   "cell_type": "code",
   "execution_count": 4,
   "metadata": {},
   "outputs": [
    {
     "data": {
      "text/latex": [
       "\\begin{verbatim}\n",
       "@my_threads\n",
       "\\end{verbatim}\n",
       "A macro to parallelize a \\texttt{for} loop to run with multiple threads.  It splits the iteration space among multiple tasks with \\texttt{prebody} and \\texttt{prebody}. It runs those tasks on threads according to a scheduling policy.\n",
       "\n",
       "Usage:\n",
       "\n",
       "\\begin{verbatim}\n",
       "@my_threads [schedule] begin\n",
       "    prebody\n",
       "end for ...\n",
       "    ...\n",
       "end begin\n",
       "    postbody\n",
       "end\n",
       "\\end{verbatim}\n"
      ],
      "text/markdown": [
       "```\n",
       "@my_threads\n",
       "```\n",
       "\n",
       "A macro to parallelize a `for` loop to run with multiple threads.  It splits the iteration space among multiple tasks with `prebody` and `prebody`. It runs those tasks on threads according to a scheduling policy.\n",
       "\n",
       "Usage:\n",
       "\n",
       "```julia\n",
       "@my_threads [schedule] begin\n",
       "    prebody\n",
       "end for ...\n",
       "    ...\n",
       "end begin\n",
       "    postbody\n",
       "end\n",
       "```\n"
      ],
      "text/plain": [
       "\u001b[36m  @my_threads\u001b[39m\n",
       "\n",
       "  A macro to parallelize a \u001b[36mfor\u001b[39m loop to run with multiple threads. It splits\n",
       "  the iteration space among multiple tasks with \u001b[36mprebody\u001b[39m and \u001b[36mprebody\u001b[39m. It runs\n",
       "  those tasks on threads according to a scheduling policy.\n",
       "\n",
       "  Usage:\n",
       "\n",
       "\u001b[36m  @my_threads [schedule] begin\u001b[39m\n",
       "\u001b[36m      prebody\u001b[39m\n",
       "\u001b[36m  end for ...\u001b[39m\n",
       "\u001b[36m      ...\u001b[39m\n",
       "\u001b[36m  end begin\u001b[39m\n",
       "\u001b[36m      postbody\u001b[39m\n",
       "\u001b[36m  end\u001b[39m"
      ]
     },
     "execution_count": 4,
     "metadata": {},
     "output_type": "execute_result"
    }
   ],
   "source": [
    "?MyUtils.@my_threads"
   ]
  },
  {
   "cell_type": "code",
   "execution_count": 5,
   "metadata": {},
   "outputs": [
    {
     "data": {
      "text/latex": [
       "\\begin{verbatim}\n",
       "@my_distributed\n",
       "\\end{verbatim}\n",
       "A distributed memory, parallel for loop of the form:\n",
       "\n",
       "\\begin{verbatim}\n",
       "@my_distributed begin\n",
       "    prebody\n",
       "end [reducer] for var = range\n",
       "    body\n",
       "end\n",
       "\\end{verbatim}\n"
      ],
      "text/markdown": [
       "```\n",
       "@my_distributed\n",
       "```\n",
       "\n",
       "A distributed memory, parallel for loop of the form:\n",
       "\n",
       "```julia\n",
       "@my_distributed begin\n",
       "    prebody\n",
       "end [reducer] for var = range\n",
       "    body\n",
       "end\n",
       "```\n"
      ],
      "text/plain": [
       "\u001b[36m  @my_distributed\u001b[39m\n",
       "\n",
       "  A distributed memory, parallel for loop of the form:\n",
       "\n",
       "\u001b[36m  @my_distributed begin\u001b[39m\n",
       "\u001b[36m      prebody\u001b[39m\n",
       "\u001b[36m  end [reducer] for var = range\u001b[39m\n",
       "\u001b[36m      body\u001b[39m\n",
       "\u001b[36m  end\u001b[39m"
      ]
     },
     "execution_count": 5,
     "metadata": {},
     "output_type": "execute_result"
    }
   ],
   "source": [
    "?MyUtils.@my_distributed"
   ]
  },
  {
   "cell_type": "code",
   "execution_count": 6,
   "metadata": {},
   "outputs": [
    {
     "name": "stdout",
     "output_type": "stream",
     "text": [
      "  0.321139 seconds (12 allocations: 19.656 KiB)\n",
      "  0.319071 seconds\n",
      "  0.324314 seconds\n"
     ]
    },
    {
     "data": {
      "text/plain": [
       "3.14172888"
      ]
     },
     "execution_count": 6,
     "metadata": {},
     "output_type": "execute_result"
    }
   ],
   "source": [
    "function mcpi(N)\n",
    "    rng = Random.default_rng()\n",
    "    c = 0\n",
    "    for i in 1:N\n",
    "        c += ifelse(rand(rng)^2 + rand(rng)^2 ≤ 1, 1, 0)\n",
    "    end\n",
    "    4c/N\n",
    "end\n",
    "\n",
    "@time mcpi(10^8)\n",
    "@time mcpi(10^8)\n",
    "@time mcpi(10^8)"
   ]
  },
  {
   "cell_type": "code",
   "execution_count": 7,
   "metadata": {},
   "outputs": [
    {
     "name": "stdout",
     "output_type": "stream",
     "text": [
      "  0.175083 seconds (54.86 k allocations: 3.421 MiB, 46.41% compilation time)\n",
      "  0.090665 seconds (60 allocations: 4.750 KiB)\n",
      "  0.093240 seconds (55 allocations: 4.453 KiB)\n"
     ]
    },
    {
     "data": {
      "text/plain": [
       "3.14175776"
      ]
     },
     "execution_count": 7,
     "metadata": {},
     "output_type": "execute_result"
    }
   ],
   "source": [
    "function mcpi_my_threads(N)\n",
    "    a = Atomic{Int}(0)\n",
    "    MyUtils.@my_threads begin\n",
    "        rng = Random.default_rng()\n",
    "        c = 0\n",
    "    end for i in 1:N\n",
    "        c += ifelse(rand(rng)^2 + rand(rng)^2 ≤ 1, 1, 0)\n",
    "    end begin\n",
    "        atomic_add!(a, c)\n",
    "    end\n",
    "    4a[]/N\n",
    "end\n",
    "\n",
    "@time mcpi_my_threads(10^8)\n",
    "@time mcpi_my_threads(10^8)\n",
    "@time mcpi_my_threads(10^8)"
   ]
  },
  {
   "cell_type": "code",
   "execution_count": 8,
   "metadata": {},
   "outputs": [
    {
     "name": "stdout",
     "output_type": "stream",
     "text": [
      "workers() = [2, 3, 4, 5, 6, 7, 8, 9]\n"
     ]
    },
    {
     "name": "stderr",
     "output_type": "stream",
     "text": [
      "\u001b[32m\u001b[1m  Activating\u001b[22m\u001b[39m\u001b[32m\u001b[1m  Activating\u001b[22m\u001b[39m\u001b[32m\u001b[1m  Activating\u001b[22m\u001b[39m \u001b[32m\u001b[1m  Activating\u001b[22m\u001b[39menvironment at `C:\\Users\\genkuroki\\OneDrive\\work\\MyUtils.jl\\Project.toml`\u001b[32m\u001b[1m  Activating\u001b[22m\u001b[39m\u001b[32m\u001b[1m  Activating\u001b[22m\u001b[39m\n",
      "  environment at `C:\\Users\\genkuroki\\OneDrive\\work\\MyUtils.jl\\Project.toml`\n",
      "environment at `C:\\Users\\genkuroki\\OneDrive\\work\\MyUtils.jl\\Project.toml` \n",
      "environment at `C:\\Users\\genkuroki\\OneDrive\\work\\MyUtils.jl\\Project.toml`\n",
      " environment at `C:\\Users\\genkuroki\\OneDrive\\work\\MyUtils.jl\\Project.toml`\n",
      "\u001b[32m\u001b[1m  Activating\u001b[22m\u001b[39m\u001b[32m\u001b[1m  Activating\u001b[22m\u001b[39m environment at `C:\\Users\\genkuroki\\OneDrive\\work\\MyUtils.jl\\Project.toml`\n",
      " environment at `C:\\Users\\genkuroki\\OneDrive\\work\\MyUtils.jl\\Project.toml`\n",
      " environment at `C:\\Users\\genkuroki\\OneDrive\\work\\MyUtils.jl\\Project.toml`\n"
     ]
    }
   ],
   "source": [
    "rmprocs(procs()[2:end])\n",
    "addprocs(8)\n",
    "@show workers()\n",
    "\n",
    "@everywhere begin\n",
    "    if isfile(\"Project.toml\")\n",
    "        using Pkg\n",
    "        Pkg.activate(\".\")\n",
    "    end\n",
    "    using MyUtils\n",
    "    using Random\n",
    "end"
   ]
  },
  {
   "cell_type": "code",
   "execution_count": 9,
   "metadata": {},
   "outputs": [
    {
     "name": "stdout",
     "output_type": "stream",
     "text": [
      "  1.677908 seconds (950.04 k allocations: 56.823 MiB, 0.84% gc time, 18.40% compilation time)\n",
      "  0.093394 seconds (655 allocations: 30.984 KiB)\n",
      "  0.087794 seconds (651 allocations: 28.047 KiB)\n"
     ]
    },
    {
     "data": {
      "text/plain": [
       "3.14169016"
      ]
     },
     "execution_count": 9,
     "metadata": {},
     "output_type": "execute_result"
    }
   ],
   "source": [
    "function mcpi_my_distributed(N)\n",
    "    c = MyUtils.@my_distributed begin\n",
    "        rng = Random.default_rng()\n",
    "    end (+) for i in 1:N\n",
    "        ifelse(rand(rng)^2 + rand(rng)^2 ≤ 1, 1, 0)\n",
    "    end\n",
    "    4c/N\n",
    "end\n",
    "\n",
    "@time mcpi_my_distributed(10^8)\n",
    "@time mcpi_my_distributed(10^8)\n",
    "@time mcpi_my_distributed(10^8)"
   ]
  },
  {
   "cell_type": "code",
   "execution_count": 10,
   "metadata": {},
   "outputs": [
    {
     "name": "stdout",
     "output_type": "stream",
     "text": [
      "  314.491 ms (0 allocations: 0 bytes)\n",
      "  89.570 ms (49 allocations: 4.27 KiB)\n",
      "  86.329 ms (645 allocations: 27.80 KiB)\n"
     ]
    },
    {
     "data": {
      "text/plain": [
       "3.14174876"
      ]
     },
     "execution_count": 10,
     "metadata": {},
     "output_type": "execute_result"
    }
   ],
   "source": [
    "using BenchmarkTools\n",
    "\n",
    "@btime mcpi(10^8)\n",
    "@btime mcpi_my_threads(10^8)\n",
    "@btime mcpi_my_distributed(10^8)"
   ]
  },
  {
   "cell_type": "code",
   "execution_count": 11,
   "metadata": {},
   "outputs": [
    {
     "name": "stdout",
     "output_type": "stream",
     "text": [
      "workers() = [1]\n"
     ]
    }
   ],
   "source": [
    "rmprocs(procs()[2:end])\n",
    "@show workers();"
   ]
  },
  {
   "cell_type": "code",
   "execution_count": null,
   "metadata": {},
   "outputs": [],
   "source": []
  }
 ],
 "metadata": {
  "@webio": {
   "lastCommId": null,
   "lastKernelId": null
  },
  "kernelspec": {
   "display_name": "Julia 1.7.0-DEV depwarn -O3",
   "language": "julia",
   "name": "julia-1.7-depwarn-o3"
  },
  "language_info": {
   "file_extension": ".jl",
   "mimetype": "application/julia",
   "name": "julia",
   "version": "1.7.0"
  },
  "toc": {
   "base_numbering": 1,
   "nav_menu": {},
   "number_sections": true,
   "sideBar": true,
   "skip_h1_title": false,
   "title_cell": "Table of Contents",
   "title_sidebar": "Contents",
   "toc_cell": false,
   "toc_position": {},
   "toc_section_display": true,
   "toc_window_display": false
  }
 },
 "nbformat": 4,
 "nbformat_minor": 4
}
