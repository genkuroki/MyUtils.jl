{
 "cells": [
  {
   "cell_type": "markdown",
   "metadata": {},
   "source": [
    "# MyUtils.jl\n",
    "\n",
    "* Copyright (c) 2021 Gen Kuroki\n",
    "* License: https://opensource.org/licenses/MIT\n",
    "* Repository: https://github.com/genkuroki/MyUtils.jl\n",
    "* nbviewer: https://nbviewer.jupyter.org/github/genkuroki/MyUtils.jl/blob/main/MyUtils.ipynb"
   ]
  },
  {
   "cell_type": "markdown",
   "metadata": {
    "toc": true
   },
   "source": [
    "<h1>Table of Contents<span class=\"tocSkip\"></span></h1>\n",
    "<div class=\"toc\"><ul class=\"toc-item\"><li><span><a href=\"#@my_threads-and-@my_distributed\" data-toc-modified-id=\"@my_threads-and-@my_distributed-1\"><span class=\"toc-item-num\">1&nbsp;&nbsp;</span><code>@my_threads</code> and <code>@my_distributed</code></a></span></li><li><span><a href=\"#printf-functions\" data-toc-modified-id=\"printf-functions-2\"><span class=\"toc-item-num\">2&nbsp;&nbsp;</span>printf functions</a></span></li><li><span><a href=\"#RemoveOneFrom(A::AbstractVector,-k::Integer)-<:-AbstractVector\" data-toc-modified-id=\"RemoveOneFrom(A::AbstractVector,-k::Integer)-<:-AbstractVector-3\"><span class=\"toc-item-num\">3&nbsp;&nbsp;</span><code>RemoveOneFrom(A::AbstractVector, k::Integer) &lt;: AbstractVector</code></a></span></li><li><span><a href=\"#@savevar-and-@loadvar\" data-toc-modified-id=\"@savevar-and-@loadvar-4\"><span class=\"toc-item-num\">4&nbsp;&nbsp;</span><code>@savevar</code> and <code>@loadvar</code></a></span></li></ul></div>"
   ]
  },
  {
   "cell_type": "code",
   "execution_count": 1,
   "metadata": {},
   "outputs": [
    {
     "name": "stdout",
     "output_type": "stream",
     "text": [
      "VERSION = v\"1.7.0-DEV.1133\"\n"
     ]
    }
   ],
   "source": [
    "@show VERSION\n",
    "isfile(\"Project.toml\") && using Revise\n",
    "using MyUtils"
   ]
  },
  {
   "cell_type": "markdown",
   "metadata": {},
   "source": [
    "## `@my_threads` and `@my_distributed`"
   ]
  },
  {
   "cell_type": "code",
   "execution_count": 2,
   "metadata": {},
   "outputs": [
    {
     "name": "stdout",
     "output_type": "stream",
     "text": [
      "nthreads() = 12\n"
     ]
    }
   ],
   "source": [
    "using Base.Threads\n",
    "using Distributed\n",
    "using Random\n",
    "\n",
    "@show nthreads();"
   ]
  },
  {
   "cell_type": "code",
   "execution_count": 3,
   "metadata": {},
   "outputs": [
    {
     "data": {
      "text/latex": [
       "\\begin{verbatim}\n",
       "@my_threads\n",
       "\\end{verbatim}\n",
       "A macro to parallelize a \\texttt{for} loop to run with multiple threads.  It splits the iteration space among multiple tasks with \\texttt{prebody} and \\texttt{postbody}. It runs those tasks on threads according to a scheduling policy.\n",
       "\n",
       "Usage:\n",
       "\n",
       "\\begin{verbatim}\n",
       "@my_threads [schedule] begin\n",
       "    prebody\n",
       "end for ...\n",
       "    ...\n",
       "end begin\n",
       "    postbody\n",
       "end\n",
       "\\end{verbatim}\n"
      ],
      "text/markdown": [
       "```\n",
       "@my_threads\n",
       "```\n",
       "\n",
       "A macro to parallelize a `for` loop to run with multiple threads.  It splits the iteration space among multiple tasks with `prebody` and `postbody`. It runs those tasks on threads according to a scheduling policy.\n",
       "\n",
       "Usage:\n",
       "\n",
       "```julia\n",
       "@my_threads [schedule] begin\n",
       "    prebody\n",
       "end for ...\n",
       "    ...\n",
       "end begin\n",
       "    postbody\n",
       "end\n",
       "```\n"
      ],
      "text/plain": [
       "\u001b[36m  @my_threads\u001b[39m\n",
       "\n",
       "  A macro to parallelize a \u001b[36mfor\u001b[39m loop to run with multiple threads. It splits\n",
       "  the iteration space among multiple tasks with \u001b[36mprebody\u001b[39m and \u001b[36mpostbody\u001b[39m. It runs\n",
       "  those tasks on threads according to a scheduling policy.\n",
       "\n",
       "  Usage:\n",
       "\n",
       "\u001b[36m  @my_threads [schedule] begin\u001b[39m\n",
       "\u001b[36m      prebody\u001b[39m\n",
       "\u001b[36m  end for ...\u001b[39m\n",
       "\u001b[36m      ...\u001b[39m\n",
       "\u001b[36m  end begin\u001b[39m\n",
       "\u001b[36m      postbody\u001b[39m\n",
       "\u001b[36m  end\u001b[39m"
      ]
     },
     "execution_count": 3,
     "metadata": {},
     "output_type": "execute_result"
    }
   ],
   "source": [
    "?MyUtils.@my_threads"
   ]
  },
  {
   "cell_type": "code",
   "execution_count": 4,
   "metadata": {},
   "outputs": [
    {
     "data": {
      "text/latex": [
       "\\begin{verbatim}\n",
       "@my_distributed\n",
       "\\end{verbatim}\n",
       "A distributed memory, parallel for loop of the form:\n",
       "\n",
       "\\begin{verbatim}\n",
       "@my_distributed begin\n",
       "    prebody\n",
       "end [reducer] for var = range\n",
       "    body\n",
       "end\n",
       "\\end{verbatim}\n"
      ],
      "text/markdown": [
       "```\n",
       "@my_distributed\n",
       "```\n",
       "\n",
       "A distributed memory, parallel for loop of the form:\n",
       "\n",
       "```julia\n",
       "@my_distributed begin\n",
       "    prebody\n",
       "end [reducer] for var = range\n",
       "    body\n",
       "end\n",
       "```\n"
      ],
      "text/plain": [
       "\u001b[36m  @my_distributed\u001b[39m\n",
       "\n",
       "  A distributed memory, parallel for loop of the form:\n",
       "\n",
       "\u001b[36m  @my_distributed begin\u001b[39m\n",
       "\u001b[36m      prebody\u001b[39m\n",
       "\u001b[36m  end [reducer] for var = range\u001b[39m\n",
       "\u001b[36m      body\u001b[39m\n",
       "\u001b[36m  end\u001b[39m"
      ]
     },
     "execution_count": 4,
     "metadata": {},
     "output_type": "execute_result"
    }
   ],
   "source": [
    "?MyUtils.@my_distributed"
   ]
  },
  {
   "cell_type": "code",
   "execution_count": 5,
   "metadata": {},
   "outputs": [
    {
     "name": "stdout",
     "output_type": "stream",
     "text": [
      "  0.234942 seconds (12 allocations: 19.656 KiB)\n",
      "  0.234895 seconds\n",
      "  0.234206 seconds\n"
     ]
    },
    {
     "data": {
      "text/plain": [
       "3.14150948"
      ]
     },
     "execution_count": 5,
     "metadata": {},
     "output_type": "execute_result"
    }
   ],
   "source": [
    "function mcpi(N)\n",
    "    rng = Random.default_rng()\n",
    "    c = 0\n",
    "    for i in 1:N\n",
    "        c += ifelse(rand(rng)^2 + rand(rng)^2 ≤ 1, 1, 0)\n",
    "    end\n",
    "    4c/N\n",
    "end\n",
    "\n",
    "@time mcpi(10^8)\n",
    "@time mcpi(10^8)\n",
    "@time mcpi(10^8)"
   ]
  },
  {
   "cell_type": "code",
   "execution_count": 6,
   "metadata": {},
   "outputs": [
    {
     "name": "stdout",
     "output_type": "stream",
     "text": [
      "  0.077633 seconds (56.76 k allocations: 3.570 MiB, 48.35% compilation time)\n",
      "  0.038935 seconds (75 allocations: 6.422 KiB)\n",
      "  0.045585 seconds (74 allocations: 6.453 KiB)\n"
     ]
    },
    {
     "data": {
      "text/plain": [
       "3.14149864"
      ]
     },
     "execution_count": 6,
     "metadata": {},
     "output_type": "execute_result"
    }
   ],
   "source": [
    "function mcpi_my_threads(N)\n",
    "    a = Atomic{Int}(0)\n",
    "    MyUtils.@my_threads begin\n",
    "        rng = Random.default_rng()\n",
    "        c = 0\n",
    "    end for i in 1:N\n",
    "        c += ifelse(rand(rng)^2 + rand(rng)^2 ≤ 1, 1, 0)\n",
    "    end begin\n",
    "        atomic_add!(a, c)\n",
    "    end\n",
    "    4a[]/N\n",
    "end\n",
    "\n",
    "@time mcpi_my_threads(10^8)\n",
    "@time mcpi_my_threads(10^8)\n",
    "@time mcpi_my_threads(10^8)"
   ]
  },
  {
   "cell_type": "code",
   "execution_count": 7,
   "metadata": {},
   "outputs": [
    {
     "name": "stdout",
     "output_type": "stream",
     "text": [
      "workers() = [2, 3, 4, 5, 6, 7, 8, 9, 10, 11, 12, 13]\n"
     ]
    }
   ],
   "source": [
    "rmprocs(procs()[2:end])\n",
    "addprocs(nthreads())\n",
    "@show workers()\n",
    "\n",
    "@everywhere begin\n",
    "    using MyUtils\n",
    "    using Random\n",
    "end"
   ]
  },
  {
   "cell_type": "code",
   "execution_count": 8,
   "metadata": {},
   "outputs": [
    {
     "name": "stdout",
     "output_type": "stream",
     "text": [
      "  1.177858 seconds (974.12 k allocations: 57.796 MiB, 0.77% gc time, 19.04% compilation time)\n",
      "  0.042290 seconds (969 allocations: 41.562 KiB)\n",
      "  0.037871 seconds (982 allocations: 44.328 KiB)\n"
     ]
    },
    {
     "data": {
      "text/plain": [
       "3.14156136"
      ]
     },
     "execution_count": 8,
     "metadata": {},
     "output_type": "execute_result"
    }
   ],
   "source": [
    "function mcpi_my_distributed(N)\n",
    "    c = MyUtils.@my_distributed begin\n",
    "        rng = Random.default_rng()\n",
    "    end (+) for i in 1:N\n",
    "        ifelse(rand(rng)^2 + rand(rng)^2 ≤ 1, 1, 0)\n",
    "    end\n",
    "    4c/N\n",
    "end\n",
    "\n",
    "@time mcpi_my_distributed(10^8)\n",
    "@time mcpi_my_distributed(10^8)\n",
    "@time mcpi_my_distributed(10^8)"
   ]
  },
  {
   "cell_type": "code",
   "execution_count": 9,
   "metadata": {},
   "outputs": [
    {
     "name": "stdout",
     "output_type": "stream",
     "text": [
      "  230.692 ms (0 allocations: 0 bytes)\n",
      "  38.851 ms (73 allocations: 6.36 KiB)\n",
      "  37.417 ms (968 allocations: 41.53 KiB)\n"
     ]
    },
    {
     "data": {
      "text/plain": [
       "3.1417306"
      ]
     },
     "execution_count": 9,
     "metadata": {},
     "output_type": "execute_result"
    }
   ],
   "source": [
    "using BenchmarkTools\n",
    "\n",
    "@btime mcpi(10^8)\n",
    "@btime mcpi_my_threads(10^8)\n",
    "@btime mcpi_my_distributed(10^8)"
   ]
  },
  {
   "cell_type": "code",
   "execution_count": 10,
   "metadata": {},
   "outputs": [
    {
     "name": "stdout",
     "output_type": "stream",
     "text": [
      "workers() = [1]\n"
     ]
    }
   ],
   "source": [
    "rmprocs(procs()[2:end])\n",
    "@show workers();"
   ]
  },
  {
   "cell_type": "markdown",
   "metadata": {},
   "source": [
    "## printf functions"
   ]
  },
  {
   "cell_type": "code",
   "execution_count": 11,
   "metadata": {},
   "outputs": [
    {
     "name": "stdout",
     "output_type": "stream",
     "text": [
      "3\n",
      "3.1\n",
      "3.14\n",
      "3.142\n",
      "3.1416\n",
      "3.14159\n",
      "3.141593\n",
      "3.1415927\n",
      "3.14159265\n",
      "3.141592654\n",
      "3.1415926536\n"
     ]
    }
   ],
   "source": [
    "for k in 0:10\n",
    "    printf(\"%.$(k)f\\n\", π)\n",
    "end"
   ]
  },
  {
   "cell_type": "code",
   "execution_count": 12,
   "metadata": {},
   "outputs": [
    {
     "data": {
      "text/plain": [
       "11-element Vector{String}:\n",
       " \"3\"\n",
       " \"3.1\"\n",
       " \"3.14\"\n",
       " \"3.142\"\n",
       " \"3.1416\"\n",
       " \"3.14159\"\n",
       " \"3.141593\"\n",
       " \"3.1415927\"\n",
       " \"3.14159265\"\n",
       " \"3.141592654\"\n",
       " \"3.1415926536\""
      ]
     },
     "execution_count": 12,
     "metadata": {},
     "output_type": "execute_result"
    }
   ],
   "source": [
    "[sprintf(\"%.$(k)f\", π) for k in 0:10]"
   ]
  },
  {
   "cell_type": "markdown",
   "metadata": {},
   "source": [
    "## `RemoveOneFrom(A::AbstractVector, k::Integer) <: AbstractVector`"
   ]
  },
  {
   "cell_type": "code",
   "execution_count": 13,
   "metadata": {},
   "outputs": [
    {
     "data": {
      "text/latex": [
       "\\begin{verbatim}\n",
       "RemoveOneFrom(A::AbstractVector, k::Integer) <: AbstractVector\n",
       "\\end{verbatim}\n",
       "Equivalent to A[[1:k-1; k+1:end]] without unnecessary memory allocation.\n",
       "\n",
       "Example\n",
       "\n",
       "\\begin{verbatim}\n",
       "A = [1, 2, 3, 4, 5]\n",
       "R = RemoveOneFrom(A, 3)\n",
       "@show collect(R)\n",
       "# -> collect(R) = [1, 2, 4, 5]\n",
       "R[3] = 99\n",
       "@show R\n",
       "# -> R = [1, 2, 99, 5]\n",
       "@show A\n",
       "# -> A = [1, 2, 3, 99, 5]\n",
       "\\end{verbatim}\n"
      ],
      "text/markdown": [
       "```\n",
       "RemoveOneFrom(A::AbstractVector, k::Integer) <: AbstractVector\n",
       "```\n",
       "\n",
       "Equivalent to A[[1:k-1; k+1:end]] without unnecessary memory allocation.\n",
       "\n",
       "Example\n",
       "\n",
       "```julia\n",
       "A = [1, 2, 3, 4, 5]\n",
       "R = RemoveOneFrom(A, 3)\n",
       "@show collect(R)\n",
       "# -> collect(R) = [1, 2, 4, 5]\n",
       "R[3] = 99\n",
       "@show R\n",
       "# -> R = [1, 2, 99, 5]\n",
       "@show A\n",
       "# -> A = [1, 2, 3, 99, 5]\n",
       "```\n"
      ],
      "text/plain": [
       "\u001b[36m  RemoveOneFrom(A::AbstractVector, k::Integer) <: AbstractVector\u001b[39m\n",
       "\n",
       "  Equivalent to A[[1:k-1; k+1:end]] without unnecessary memory allocation.\n",
       "\n",
       "  Example\n",
       "\n",
       "\u001b[36m  A = [1, 2, 3, 4, 5]\u001b[39m\n",
       "\u001b[36m  R = RemoveOneFrom(A, 3)\u001b[39m\n",
       "\u001b[36m  @show collect(R)\u001b[39m\n",
       "\u001b[36m  # -> collect(R) = [1, 2, 4, 5]\u001b[39m\n",
       "\u001b[36m  R[3] = 99\u001b[39m\n",
       "\u001b[36m  @show R\u001b[39m\n",
       "\u001b[36m  # -> R = [1, 2, 99, 5]\u001b[39m\n",
       "\u001b[36m  @show A\u001b[39m\n",
       "\u001b[36m  # -> A = [1, 2, 3, 99, 5]\u001b[39m"
      ]
     },
     "execution_count": 13,
     "metadata": {},
     "output_type": "execute_result"
    }
   ],
   "source": [
    "@doc MyUtils.RemoveOneFrom"
   ]
  },
  {
   "cell_type": "code",
   "execution_count": 14,
   "metadata": {},
   "outputs": [
    {
     "name": "stdout",
     "output_type": "stream",
     "text": [
      "collect(R) = [1, 2, 4, 5]\n",
      "R = [1, 2, 99, 5]\n",
      "A = [1, 2, 3, 99, 5]\n"
     ]
    }
   ],
   "source": [
    "A = [1, 2, 3, 4, 5]\n",
    "R = MyUtils.RemoveOneFrom(A, 3)\n",
    "@show collect(R)\n",
    "R[3] = 99\n",
    "@show R\n",
    "@show A;"
   ]
  },
  {
   "cell_type": "code",
   "execution_count": 15,
   "metadata": {},
   "outputs": [
    {
     "name": "stdout",
     "output_type": "stream",
     "text": [
      "  0.014289 seconds (302 allocations: 15.275 MiB, 62.57% compilation time)\n",
      "  0.004205 seconds (9 allocations: 15.259 MiB)\n",
      "  0.011535 seconds (9 allocations: 15.259 MiB, 63.73% gc time)\n",
      "\n",
      "  0.015221 seconds (22.99 k allocations: 8.949 MiB, 87.84% compilation time)\n",
      "  0.002084 seconds (8 allocations: 7.630 MiB)\n",
      "  0.001678 seconds (8 allocations: 7.630 MiB)\n",
      "\n",
      "  0.000003 seconds (1 allocation: 32 bytes)\n",
      "  0.000004 seconds (1 allocation: 32 bytes)\n",
      "  0.000003 seconds (1 allocation: 32 bytes)\n"
     ]
    }
   ],
   "source": [
    "A = collect(1:10^6)\n",
    "k = 5*10^5\n",
    "@time A[[1:k-1; k+1:end]]\n",
    "@time A[[1:k-1; k+1:end]]\n",
    "@time A[[1:k-1; k+1:end]]\n",
    "println()\n",
    "@time @view A[[1:k-1; k+1:end]]\n",
    "@time @view A[[1:k-1; k+1:end]]\n",
    "@time @view A[[1:k-1; k+1:end]]\n",
    "println()\n",
    "@time MyUtils.RemoveOneFrom(A, k)\n",
    "@time MyUtils.RemoveOneFrom(A, k)\n",
    "@time MyUtils.RemoveOneFrom(A, k);"
   ]
  },
  {
   "cell_type": "markdown",
   "metadata": {},
   "source": [
    "## `@savevar` and `@loadvar`"
   ]
  },
  {
   "cell_type": "code",
   "execution_count": 16,
   "metadata": {},
   "outputs": [
    {
     "data": {
      "text/plain": [
       "\"tmp\""
      ]
     },
     "execution_count": 16,
     "metadata": {},
     "output_type": "execute_result"
    }
   ],
   "source": [
    "using MyUtils: dir_savevar, @savevar, @loadvar\n",
    "dir_savevar[] = \"tmp\""
   ]
  },
  {
   "cell_type": "code",
   "execution_count": 17,
   "metadata": {},
   "outputs": [
    {
     "name": "stdout",
     "output_type": "stream",
     "text": [
      "x = [0.3573446150049466 - 1.247796689524791im 0.6826751518535276 - 0.19938984132658544im -0.828604404251341 - 0.13031243958002936im; 0.9997775125877176 - 0.1288185084503161im 0.3566393536097865 + 0.09847938776643947im -0.24930302594101603 + 0.07927746587437946im; 0.6463507394027657 + 0.2874875698910842im -1.6366131682001521 - 1.1630981589087876im 0.01479727941198744 - 0.09638269986747496im; -0.8389169497092693 + 0.3059416490070709im -0.276664821700539 - 0.33957890029521076im 1.0258672083835658 - 0.00997502769507162im;;; -0.07014210671299528 + 1.077013678925162im 0.22910085513407732 + 0.3571799374969964im -1.0695368505074354 + 0.9667307185166448im; 0.21271939342846552 + 0.0450434630802757im -0.2120637210443527 - 1.0574146943973246im -0.10022936815590866 + 0.027660202270299698im; 1.226008377537175 - 0.6713548316258817im 0.5077812548164254 + 0.14645450926431483im 0.1317552128204387 + 1.1807955920537025im; 0.2055903575599693 + 0.6872649191653237im -0.4070115367381583 - 1.1632213017570572im -0.13058807817013474 - 0.832638913474766im]\n",
      "y = [\"RuEsDegwmi\", \"3j4zehA1lv\", \"vYVm9BlDoT\", \"TDJ4PQW8Hs\", \"oNKtK6D0og\", \"O2f8UyXwm6\", \"1bpNgVGuI1\", \"3PvGQsOsM2\", \"Cwfm7IFmZZ\", \"iIwpOiULAA\", \"exCNgYNQ5N\", \"dVnJJbrsv4\", \"fEtKF3tpNC\", \"KUgcAW5Faj\", \"MAKoj5565a\", \"7FLEPQA6r8\", \"cFePw5g0J3\", \"UdVDon7wFj\", \"2QyGeFIGtN\", \"XdiPtDIevU\", \"DcX3e1vC9X\", \"ho26XLTCEf\", \"5Ot7ZDn7ox\", \"JymhUUAB8d\", \"czMpzbOwzh\", \"2sICSebdsC\", \"cE7ZlBECz0\", \"MKZH9Pa0sl\", \"KgkQhQNFnO\", \"WZZlRX08UX\", \"XlCChOL9tD\", \"Zw9BaGAH46\", \"plljfqPsKv\", \"TpD9pUz1D5\", \"yZzex4uK1g\", \"qem94e0NRi\", \"qR81Osf7hg\", \"FjILPhXXQB\", \"kYXqGDkA67\", \"9b7kzWg0eW\", \"nvEnsW0ll5\", \"NV26kWNcXg\", \"xIC7EcUCKW\", \"JUYdVYPisg\", \"JjTOyeP38w\", \"NPzkClIDVt\", \"HZ21C8voft\", \"JwiBVNWICt\", \"HKeRf1gY3I\", \"Lj1vUJg2iJ\"]\n"
     ]
    }
   ],
   "source": [
    "Random.seed!(4649373)\n",
    "\n",
    "x = randn(ComplexF64, 4, 3, 2)\n",
    "y = [randstring(10) for i in 1:50]\n",
    "@show x y;"
   ]
  },
  {
   "cell_type": "code",
   "execution_count": 18,
   "metadata": {},
   "outputs": [],
   "source": [
    "@savevar x y"
   ]
  },
  {
   "cell_type": "code",
   "execution_count": 19,
   "metadata": {},
   "outputs": [
    {
     "data": {
      "text/plain": [
       "\"[0.3573446150049466 - 1.247796689524791im 0.6826751518535276 - 0.19938984132658544im -0.828604404251341 - 0.13031243958002936im; 0.9997775125877176 - 0.1288185084503161im 0.3566393536097865 + 0.09847938776643947im -0.24930302594101603 + 0.07927746587437946im; 0.646350739\" ⋯ 499 bytes ⋯ \"02270299698im; 1.226008377537175 - 0.6713548316258817im 0.5077812548164254 + 0.14645450926431483im 0.1317552128204387 + 1.1807955920537025im; 0.2055903575599693 + 0.6872649191653237im -0.4070115367381583 - 1.1632213017570572im -0.13058807817013474 - 0.832638913474766im]\""
      ]
     },
     "execution_count": 19,
     "metadata": {},
     "output_type": "execute_result"
    }
   ],
   "source": [
    "read(joinpath(dir_savevar[], \"x.txt\"), String)"
   ]
  },
  {
   "cell_type": "code",
   "execution_count": 20,
   "metadata": {},
   "outputs": [
    {
     "data": {
      "text/plain": [
       "\"[\\\"RuEsDegwmi\\\", \\\"3j4zehA1lv\\\", \\\"vYVm9BlDoT\\\", \\\"TDJ4PQW8Hs\\\", \\\"oNKtK6D0og\\\", \\\"O2f8UyXwm6\\\", \\\"1bpNgVGuI1\\\", \\\"3PvGQsOsM2\\\", \\\"Cwfm7IFmZZ\\\", \\\"iIwpOiULAA\\\", \\\"exCNgYNQ5N\\\", \\\"dVnJJbrsv4\\\", \\\"fEtKF3tpNC\\\", \\\"KUgcAW5Faj\\\", \\\"MAKoj5565a\\\", \\\"7FLEPQA6r8\\\", \\\"cFePw5g0J3\\\", \\\"UdVDon7wFj\\\", \\\"2QyGeFIGtN\\\", \\\"Xdi\" ⋯ 159 bytes ⋯ \"tD\\\", \\\"Zw9BaGAH46\\\", \\\"plljfqPsKv\\\", \\\"TpD9pUz1D5\\\", \\\"yZzex4uK1g\\\", \\\"qem94e0NRi\\\", \\\"qR81Osf7hg\\\", \\\"FjILPhXXQB\\\", \\\"kYXqGDkA67\\\", \\\"9b7kzWg0eW\\\", \\\"nvEnsW0ll5\\\", \\\"NV26kWNcXg\\\", \\\"xIC7EcUCKW\\\", \\\"JUYdVYPisg\\\", \\\"JjTOyeP38w\\\", \\\"NPzkClIDVt\\\", \\\"HZ21C8voft\\\", \\\"JwiBVNWICt\\\", \\\"HKeRf1gY3I\\\", \\\"Lj1vUJg2iJ\\\"]\""
      ]
     },
     "execution_count": 20,
     "metadata": {},
     "output_type": "execute_result"
    }
   ],
   "source": [
    "read(joinpath(dir_savevar[], \"y.txt\"), String)"
   ]
  },
  {
   "cell_type": "code",
   "execution_count": 21,
   "metadata": {},
   "outputs": [
    {
     "name": "stdout",
     "output_type": "stream",
     "text": [
      "X = [0.3573446150049466 - 1.247796689524791im 0.6826751518535276 - 0.19938984132658544im -0.828604404251341 - 0.13031243958002936im; 0.9997775125877176 - 0.1288185084503161im 0.3566393536097865 + 0.09847938776643947im -0.24930302594101603 + 0.07927746587437946im; 0.6463507394027657 + 0.2874875698910842im -1.6366131682001521 - 1.1630981589087876im 0.01479727941198744 - 0.09638269986747496im; -0.8389169497092693 + 0.3059416490070709im -0.276664821700539 - 0.33957890029521076im 1.0258672083835658 - 0.00997502769507162im;;; -0.07014210671299528 + 1.077013678925162im 0.22910085513407732 + 0.3571799374969964im -1.0695368505074354 + 0.9667307185166448im; 0.21271939342846552 + 0.0450434630802757im -0.2120637210443527 - 1.0574146943973246im -0.10022936815590866 + 0.027660202270299698im; 1.226008377537175 - 0.6713548316258817im 0.5077812548164254 + 0.14645450926431483im 0.1317552128204387 + 1.1807955920537025im; 0.2055903575599693 + 0.6872649191653237im -0.4070115367381583 - 1.1632213017570572im -0.13058807817013474 - 0.832638913474766im]\n",
      "Y = [\"RuEsDegwmi\", \"3j4zehA1lv\", \"vYVm9BlDoT\", \"TDJ4PQW8Hs\", \"oNKtK6D0og\", \"O2f8UyXwm6\", \"1bpNgVGuI1\", \"3PvGQsOsM2\", \"Cwfm7IFmZZ\", \"iIwpOiULAA\", \"exCNgYNQ5N\", \"dVnJJbrsv4\", \"fEtKF3tpNC\", \"KUgcAW5Faj\", \"MAKoj5565a\", \"7FLEPQA6r8\", \"cFePw5g0J3\", \"UdVDon7wFj\", \"2QyGeFIGtN\", \"XdiPtDIevU\", \"DcX3e1vC9X\", \"ho26XLTCEf\", \"5Ot7ZDn7ox\", \"JymhUUAB8d\", \"czMpzbOwzh\", \"2sICSebdsC\", \"cE7ZlBECz0\", \"MKZH9Pa0sl\", \"KgkQhQNFnO\", \"WZZlRX08UX\", \"XlCChOL9tD\", \"Zw9BaGAH46\", \"plljfqPsKv\", \"TpD9pUz1D5\", \"yZzex4uK1g\", \"qem94e0NRi\", \"qR81Osf7hg\", \"FjILPhXXQB\", \"kYXqGDkA67\", \"9b7kzWg0eW\", \"nvEnsW0ll5\", \"NV26kWNcXg\", \"xIC7EcUCKW\", \"JUYdVYPisg\", \"JjTOyeP38w\", \"NPzkClIDVt\", \"HZ21C8voft\", \"JwiBVNWICt\", \"HKeRf1gY3I\", \"Lj1vUJg2iJ\"]\n"
     ]
    }
   ],
   "source": [
    "X, Y = @loadvar x y\n",
    "@show X Y;"
   ]
  },
  {
   "cell_type": "code",
   "execution_count": 22,
   "metadata": {},
   "outputs": [
    {
     "data": {
      "text/plain": [
       "true"
      ]
     },
     "execution_count": 22,
     "metadata": {},
     "output_type": "execute_result"
    }
   ],
   "source": [
    "(X, Y) == (x, y)"
   ]
  },
  {
   "cell_type": "code",
   "execution_count": null,
   "metadata": {},
   "outputs": [],
   "source": []
  }
 ],
 "metadata": {
  "@webio": {
   "lastCommId": null,
   "lastKernelId": null
  },
  "gist": {
   "data": {
    "description": "/work/MyUtils.jl/MyUtils.ipynb",
    "public": true
   },
   "id": ""
  },
  "kernelspec": {
   "display_name": "Julia 1.7.0-DEV",
   "language": "julia",
   "name": "julia-1.7"
  },
  "language_info": {
   "file_extension": ".jl",
   "mimetype": "application/julia",
   "name": "julia",
   "version": "1.7.0"
  },
  "toc": {
   "base_numbering": 1,
   "nav_menu": {},
   "number_sections": true,
   "sideBar": true,
   "skip_h1_title": true,
   "title_cell": "Table of Contents",
   "title_sidebar": "Contents",
   "toc_cell": true,
   "toc_position": {},
   "toc_section_display": true,
   "toc_window_display": false
  },
  "toc-autonumbering": true,
  "toc-showtags": false
 },
 "nbformat": 4,
 "nbformat_minor": 4
}
