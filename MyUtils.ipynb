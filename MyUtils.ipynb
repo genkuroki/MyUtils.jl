{
 "cells": [
  {
   "cell_type": "markdown",
   "metadata": {},
   "source": [
    "# MyUtils.jl\n",
    "\n",
    "* Copyright (c) 2021 Gen Kuroki\n",
    "* License: https://opensource.org/licenses/MIT\n",
    "* Repository: https://github.com/genkuroki/MyUtils.jl\n",
    "* nbviewer: https://nbviewer.jupyter.org/github/genkuroki/MyUtils.jl/blob/main/MyUtils.ipynb"
   ]
  },
  {
   "cell_type": "markdown",
   "metadata": {
    "toc": true
   },
   "source": [
    "<h1>Table of Contents<span class=\"tocSkip\"></span></h1>\n",
    "<div class=\"toc\"><ul class=\"toc-item\"><li><span><a href=\"#@my_threads-and-@my_distributed\" data-toc-modified-id=\"@my_threads-and-@my_distributed-1\"><span class=\"toc-item-num\">1&nbsp;&nbsp;</span><code>@my_threads</code> and <code>@my_distributed</code></a></span></li><li><span><a href=\"#printf-functions\" data-toc-modified-id=\"printf-functions-2\"><span class=\"toc-item-num\">2&nbsp;&nbsp;</span>printf functions</a></span></li><li><span><a href=\"#RemoveOneFrom(A::AbstractVector,-k::Integer)-<:-AbstractVector\" data-toc-modified-id=\"RemoveOneFrom(A::AbstractVector,-k::Integer)-<:-AbstractVector-3\"><span class=\"toc-item-num\">3&nbsp;&nbsp;</span><code>RemoveOneFrom(A::AbstractVector, k::Integer) &lt;: AbstractVector</code></a></span></li></ul></div>"
   ]
  },
  {
   "cell_type": "code",
   "execution_count": 1,
   "metadata": {},
   "outputs": [
    {
     "name": "stdout",
     "output_type": "stream",
     "text": [
      "VERSION = v\"1.7.0-DEV.859\"\n"
     ]
    }
   ],
   "source": [
    "@show VERSION\n",
    "isfile(\"Project.toml\") && using Revise\n",
    "using MyUtils"
   ]
  },
  {
   "cell_type": "markdown",
   "metadata": {},
   "source": [
    "## `@my_threads` and `@my_distributed`"
   ]
  },
  {
   "cell_type": "code",
   "execution_count": 2,
   "metadata": {},
   "outputs": [
    {
     "name": "stdout",
     "output_type": "stream",
     "text": [
      "nthreads() = 8\n"
     ]
    }
   ],
   "source": [
    "using Base.Threads\n",
    "using Distributed\n",
    "using Random\n",
    "\n",
    "@show nthreads();"
   ]
  },
  {
   "cell_type": "code",
   "execution_count": 3,
   "metadata": {},
   "outputs": [
    {
     "data": {
      "text/latex": [
       "\\begin{verbatim}\n",
       "@my_threads\n",
       "\\end{verbatim}\n",
       "A macro to parallelize a \\texttt{for} loop to run with multiple threads.  It splits the iteration space among multiple tasks with \\texttt{prebody} and \\texttt{postbody}. It runs those tasks on threads according to a scheduling policy.\n",
       "\n",
       "Usage:\n",
       "\n",
       "\\begin{verbatim}\n",
       "@my_threads [schedule] begin\n",
       "    prebody\n",
       "end for ...\n",
       "    ...\n",
       "end begin\n",
       "    postbody\n",
       "end\n",
       "\\end{verbatim}\n"
      ],
      "text/markdown": [
       "```\n",
       "@my_threads\n",
       "```\n",
       "\n",
       "A macro to parallelize a `for` loop to run with multiple threads.  It splits the iteration space among multiple tasks with `prebody` and `postbody`. It runs those tasks on threads according to a scheduling policy.\n",
       "\n",
       "Usage:\n",
       "\n",
       "```julia\n",
       "@my_threads [schedule] begin\n",
       "    prebody\n",
       "end for ...\n",
       "    ...\n",
       "end begin\n",
       "    postbody\n",
       "end\n",
       "```\n"
      ],
      "text/plain": [
       "\u001b[36m  @my_threads\u001b[39m\n",
       "\n",
       "  A macro to parallelize a \u001b[36mfor\u001b[39m loop to run with multiple threads. It splits\n",
       "  the iteration space among multiple tasks with \u001b[36mprebody\u001b[39m and \u001b[36mpostbody\u001b[39m. It runs\n",
       "  those tasks on threads according to a scheduling policy.\n",
       "\n",
       "  Usage:\n",
       "\n",
       "\u001b[36m  @my_threads [schedule] begin\u001b[39m\n",
       "\u001b[36m      prebody\u001b[39m\n",
       "\u001b[36m  end for ...\u001b[39m\n",
       "\u001b[36m      ...\u001b[39m\n",
       "\u001b[36m  end begin\u001b[39m\n",
       "\u001b[36m      postbody\u001b[39m\n",
       "\u001b[36m  end\u001b[39m"
      ]
     },
     "execution_count": 3,
     "metadata": {},
     "output_type": "execute_result"
    }
   ],
   "source": [
    "?MyUtils.@my_threads"
   ]
  },
  {
   "cell_type": "code",
   "execution_count": 4,
   "metadata": {},
   "outputs": [
    {
     "data": {
      "text/latex": [
       "\\begin{verbatim}\n",
       "@my_distributed\n",
       "\\end{verbatim}\n",
       "A distributed memory, parallel for loop of the form:\n",
       "\n",
       "\\begin{verbatim}\n",
       "@my_distributed begin\n",
       "    prebody\n",
       "end [reducer] for var = range\n",
       "    body\n",
       "end\n",
       "\\end{verbatim}\n"
      ],
      "text/markdown": [
       "```\n",
       "@my_distributed\n",
       "```\n",
       "\n",
       "A distributed memory, parallel for loop of the form:\n",
       "\n",
       "```julia\n",
       "@my_distributed begin\n",
       "    prebody\n",
       "end [reducer] for var = range\n",
       "    body\n",
       "end\n",
       "```\n"
      ],
      "text/plain": [
       "\u001b[36m  @my_distributed\u001b[39m\n",
       "\n",
       "  A distributed memory, parallel for loop of the form:\n",
       "\n",
       "\u001b[36m  @my_distributed begin\u001b[39m\n",
       "\u001b[36m      prebody\u001b[39m\n",
       "\u001b[36m  end [reducer] for var = range\u001b[39m\n",
       "\u001b[36m      body\u001b[39m\n",
       "\u001b[36m  end\u001b[39m"
      ]
     },
     "execution_count": 4,
     "metadata": {},
     "output_type": "execute_result"
    }
   ],
   "source": [
    "?MyUtils.@my_distributed"
   ]
  },
  {
   "cell_type": "code",
   "execution_count": 5,
   "metadata": {},
   "outputs": [
    {
     "name": "stdout",
     "output_type": "stream",
     "text": [
      "  0.383953 seconds (12 allocations: 19.656 KiB)\n",
      "  0.377749 seconds\n",
      "  0.329752 seconds\n"
     ]
    },
    {
     "data": {
      "text/plain": [
       "3.1414724"
      ]
     },
     "execution_count": 5,
     "metadata": {},
     "output_type": "execute_result"
    }
   ],
   "source": [
    "function mcpi(N)\n",
    "    rng = Random.default_rng()\n",
    "    c = 0\n",
    "    for i in 1:N\n",
    "        c += ifelse(rand(rng)^2 + rand(rng)^2 ≤ 1, 1, 0)\n",
    "    end\n",
    "    4c/N\n",
    "end\n",
    "\n",
    "@time mcpi(10^8)\n",
    "@time mcpi(10^8)\n",
    "@time mcpi(10^8)"
   ]
  },
  {
   "cell_type": "code",
   "execution_count": 6,
   "metadata": {},
   "outputs": [
    {
     "name": "stdout",
     "output_type": "stream",
     "text": [
      "  0.169824 seconds (56.62 k allocations: 3.487 MiB, 32.67% compilation time)\n",
      "  0.096930 seconds (56 allocations: 4.688 KiB)\n",
      "  0.100084 seconds (59 allocations: 4.875 KiB)\n"
     ]
    },
    {
     "data": {
      "text/plain": [
       "3.1417468"
      ]
     },
     "execution_count": 6,
     "metadata": {},
     "output_type": "execute_result"
    }
   ],
   "source": [
    "function mcpi_my_threads(N)\n",
    "    a = Atomic{Int}(0)\n",
    "    MyUtils.@my_threads begin\n",
    "        rng = Random.default_rng()\n",
    "        c = 0\n",
    "    end for i in 1:N\n",
    "        c += ifelse(rand(rng)^2 + rand(rng)^2 ≤ 1, 1, 0)\n",
    "    end begin\n",
    "        atomic_add!(a, c)\n",
    "    end\n",
    "    4a[]/N\n",
    "end\n",
    "\n",
    "@time mcpi_my_threads(10^8)\n",
    "@time mcpi_my_threads(10^8)\n",
    "@time mcpi_my_threads(10^8)"
   ]
  },
  {
   "cell_type": "code",
   "execution_count": 7,
   "metadata": {},
   "outputs": [
    {
     "name": "stdout",
     "output_type": "stream",
     "text": [
      "workers() = [2, 3, 4, 5, 6, 7, 8, 9]\n"
     ]
    }
   ],
   "source": [
    "rmprocs(procs()[2:end])\n",
    "addprocs(nthreads())\n",
    "@show workers()\n",
    "\n",
    "@everywhere begin\n",
    "    using MyUtils\n",
    "    using Random\n",
    "end"
   ]
  },
  {
   "cell_type": "code",
   "execution_count": 8,
   "metadata": {},
   "outputs": [
    {
     "name": "stdout",
     "output_type": "stream",
     "text": [
      "  1.802507 seconds (975.23 k allocations: 57.828 MiB, 4.02% gc time, 16.58% compilation time)\n",
      "  0.100317 seconds (661 allocations: 29.016 KiB)\n",
      "  0.102805 seconds (652 allocations: 28.078 KiB)\n"
     ]
    },
    {
     "data": {
      "text/plain": [
       "3.1416204"
      ]
     },
     "execution_count": 8,
     "metadata": {},
     "output_type": "execute_result"
    }
   ],
   "source": [
    "function mcpi_my_distributed(N)\n",
    "    c = MyUtils.@my_distributed begin\n",
    "        rng = Random.default_rng()\n",
    "    end (+) for i in 1:N\n",
    "        ifelse(rand(rng)^2 + rand(rng)^2 ≤ 1, 1, 0)\n",
    "    end\n",
    "    4c/N\n",
    "end\n",
    "\n",
    "@time mcpi_my_distributed(10^8)\n",
    "@time mcpi_my_distributed(10^8)\n",
    "@time mcpi_my_distributed(10^8)"
   ]
  },
  {
   "cell_type": "code",
   "execution_count": 9,
   "metadata": {},
   "outputs": [
    {
     "name": "stdout",
     "output_type": "stream",
     "text": [
      "  324.212 ms (0 allocations: 0 bytes)\n",
      "  96.287 ms (49 allocations: 4.27 KiB)\n",
      "  92.173 ms (649 allocations: 27.95 KiB)\n"
     ]
    },
    {
     "data": {
      "text/plain": [
       "3.14164812"
      ]
     },
     "execution_count": 9,
     "metadata": {},
     "output_type": "execute_result"
    }
   ],
   "source": [
    "using BenchmarkTools\n",
    "\n",
    "@btime mcpi(10^8)\n",
    "@btime mcpi_my_threads(10^8)\n",
    "@btime mcpi_my_distributed(10^8)"
   ]
  },
  {
   "cell_type": "code",
   "execution_count": 10,
   "metadata": {},
   "outputs": [
    {
     "name": "stdout",
     "output_type": "stream",
     "text": [
      "workers() = [1]\n"
     ]
    }
   ],
   "source": [
    "rmprocs(procs()[2:end])\n",
    "@show workers();"
   ]
  },
  {
   "cell_type": "markdown",
   "metadata": {},
   "source": [
    "## printf functions"
   ]
  },
  {
   "cell_type": "code",
   "execution_count": 11,
   "metadata": {},
   "outputs": [
    {
     "name": "stdout",
     "output_type": "stream",
     "text": [
      "3\n",
      "3.1\n",
      "3.14\n",
      "3.142\n",
      "3.1416\n",
      "3.14159\n",
      "3.141593\n",
      "3.1415927\n",
      "3.14159265\n",
      "3.141592654\n",
      "3.1415926536\n"
     ]
    }
   ],
   "source": [
    "for k in 0:10\n",
    "    printf(\"%.$(k)f\\n\", π)\n",
    "end"
   ]
  },
  {
   "cell_type": "code",
   "execution_count": 12,
   "metadata": {},
   "outputs": [
    {
     "data": {
      "text/plain": [
       "11-element Vector{String}:\n",
       " \"3\"\n",
       " \"3.1\"\n",
       " \"3.14\"\n",
       " \"3.142\"\n",
       " \"3.1416\"\n",
       " \"3.14159\"\n",
       " \"3.141593\"\n",
       " \"3.1415927\"\n",
       " \"3.14159265\"\n",
       " \"3.141592654\"\n",
       " \"3.1415926536\""
      ]
     },
     "execution_count": 12,
     "metadata": {},
     "output_type": "execute_result"
    }
   ],
   "source": [
    "[sprintf(\"%.$(k)f\", π) for k in 0:10]"
   ]
  },
  {
   "cell_type": "markdown",
   "metadata": {},
   "source": [
    "## `RemoveOneFrom(A::AbstractVector, k::Integer) <: AbstractVector`"
   ]
  },
  {
   "cell_type": "code",
   "execution_count": 13,
   "metadata": {},
   "outputs": [
    {
     "data": {
      "text/latex": [
       "\\begin{verbatim}\n",
       "RemoveOneFrom(A::AbstractVector, k::Integer) <: AbstractVector\n",
       "\\end{verbatim}\n",
       "Equivalent to A[[1:k-1; k+1:end]] without unnecessary memory allocation.\n",
       "\n",
       "Example\n",
       "\n",
       "\\begin{verbatim}\n",
       "A = [1, 2, 3, 4, 5]\n",
       "R = RemoveOneFrom(A, 3)\n",
       "@show collect(R)\n",
       "# -> collect(R) = [1, 2, 4, 5]\n",
       "R[3] = 99\n",
       "@show R\n",
       "# -> R = [1, 2, 99, 5]\n",
       "@show A\n",
       "# -> A = [1, 2, 3, 99, 5]\n",
       "\\end{verbatim}\n"
      ],
      "text/markdown": [
       "```\n",
       "RemoveOneFrom(A::AbstractVector, k::Integer) <: AbstractVector\n",
       "```\n",
       "\n",
       "Equivalent to A[[1:k-1; k+1:end]] without unnecessary memory allocation.\n",
       "\n",
       "Example\n",
       "\n",
       "```julia\n",
       "A = [1, 2, 3, 4, 5]\n",
       "R = RemoveOneFrom(A, 3)\n",
       "@show collect(R)\n",
       "# -> collect(R) = [1, 2, 4, 5]\n",
       "R[3] = 99\n",
       "@show R\n",
       "# -> R = [1, 2, 99, 5]\n",
       "@show A\n",
       "# -> A = [1, 2, 3, 99, 5]\n",
       "```\n"
      ],
      "text/plain": [
       "\u001b[36m  RemoveOneFrom(A::AbstractVector, k::Integer) <: AbstractVector\u001b[39m\n",
       "\n",
       "  Equivalent to A[[1:k-1; k+1:end]] without unnecessary memory allocation.\n",
       "\n",
       "  Example\n",
       "\n",
       "\u001b[36m  A = [1, 2, 3, 4, 5]\u001b[39m\n",
       "\u001b[36m  R = RemoveOneFrom(A, 3)\u001b[39m\n",
       "\u001b[36m  @show collect(R)\u001b[39m\n",
       "\u001b[36m  # -> collect(R) = [1, 2, 4, 5]\u001b[39m\n",
       "\u001b[36m  R[3] = 99\u001b[39m\n",
       "\u001b[36m  @show R\u001b[39m\n",
       "\u001b[36m  # -> R = [1, 2, 99, 5]\u001b[39m\n",
       "\u001b[36m  @show A\u001b[39m\n",
       "\u001b[36m  # -> A = [1, 2, 3, 99, 5]\u001b[39m"
      ]
     },
     "execution_count": 13,
     "metadata": {},
     "output_type": "execute_result"
    }
   ],
   "source": [
    "@doc MyUtils.RemoveOneFrom"
   ]
  },
  {
   "cell_type": "code",
   "execution_count": 14,
   "metadata": {},
   "outputs": [
    {
     "name": "stdout",
     "output_type": "stream",
     "text": [
      "collect(R) = [1, 2, 4, 5]\n",
      "R = [1, 2, 99, 5]\n",
      "A = [1, 2, 3, 99, 5]\n"
     ]
    }
   ],
   "source": [
    "A = [1, 2, 3, 4, 5]\n",
    "R = MyUtils.RemoveOneFrom(A, 3)\n",
    "@show collect(R)\n",
    "R[3] = 99\n",
    "@show R\n",
    "@show A;"
   ]
  },
  {
   "cell_type": "code",
   "execution_count": 15,
   "metadata": {},
   "outputs": [
    {
     "name": "stdout",
     "output_type": "stream",
     "text": [
      "  0.029192 seconds (302 allocations: 15.275 MiB, 28.36% gc time, 42.99% compilation time)\n",
      "  0.007313 seconds (9 allocations: 15.259 MiB)\n",
      "  0.014945 seconds (9 allocations: 15.259 MiB, 52.97% gc time)\n",
      "\n",
      "  0.022089 seconds (22.99 k allocations: 8.949 MiB, 83.95% compilation time)\n",
      "  0.003430 seconds (8 allocations: 7.630 MiB)\n",
      "  0.003610 seconds (8 allocations: 7.630 MiB)\n",
      "\n",
      "  0.000003 seconds (1 allocation: 32 bytes)\n",
      "  0.000005 seconds (1 allocation: 32 bytes)\n",
      "  0.000004 seconds (1 allocation: 32 bytes)\n"
     ]
    }
   ],
   "source": [
    "A = collect(1:10^6)\n",
    "k = 5*10^5\n",
    "@time A[[1:k-1; k+1:end]]\n",
    "@time A[[1:k-1; k+1:end]]\n",
    "@time A[[1:k-1; k+1:end]]\n",
    "println()\n",
    "@time @view A[[1:k-1; k+1:end]]\n",
    "@time @view A[[1:k-1; k+1:end]]\n",
    "@time @view A[[1:k-1; k+1:end]]\n",
    "println()\n",
    "@time MyUtils.RemoveOneFrom(A, k)\n",
    "@time MyUtils.RemoveOneFrom(A, k)\n",
    "@time MyUtils.RemoveOneFrom(A, k);"
   ]
  },
  {
   "cell_type": "code",
   "execution_count": null,
   "metadata": {},
   "outputs": [],
   "source": []
  }
 ],
 "metadata": {
  "@webio": {
   "lastCommId": null,
   "lastKernelId": null
  },
  "gist": {
   "data": {
    "description": "/work/MyUtils.jl/MyUtils.ipynb",
    "public": true
   },
   "id": ""
  },
  "kernelspec": {
   "display_name": "Julia 1.7.0-DEV depwarn -O3",
   "language": "julia",
   "name": "julia-1.7-depwarn-o3"
  },
  "language_info": {
   "file_extension": ".jl",
   "mimetype": "application/julia",
   "name": "julia",
   "version": "1.7.0"
  },
  "toc": {
   "base_numbering": 1,
   "nav_menu": {},
   "number_sections": true,
   "sideBar": true,
   "skip_h1_title": true,
   "title_cell": "Table of Contents",
   "title_sidebar": "Contents",
   "toc_cell": true,
   "toc_position": {},
   "toc_section_display": true,
   "toc_window_display": false
  }
 },
 "nbformat": 4,
 "nbformat_minor": 4
}
