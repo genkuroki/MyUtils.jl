{
 "cells": [
  {
   "cell_type": "markdown",
   "metadata": {},
   "source": [
    "# MyUtils.jl\n",
    "\n",
    "* Copyright (c) 2021 Gen Kuroki\n",
    "* License: https://opensource.org/licenses/MIT\n",
    "* Repository: https://github.com/genkuroki/MyUtils.jl\n",
    "* nbviewer: https://nbviewer.jupyter.org/github/genkuroki/MyUtils.jl/blob/main/MyUtils.ipynb"
   ]
  },
  {
   "cell_type": "markdown",
   "metadata": {
    "toc": true
   },
   "source": [
    "__Table of Contents__\n",
    "\n",
    "<div class=\"toc\"><ul class=\"toc-item\"><li><span><a href=\"#@my_threads-and-@my_distributed\" data-toc-modified-id=\"@my_threads-and-@my_distributed-1\"><span class=\"toc-item-num\">1&nbsp;&nbsp;</span><code>@my_threads</code> and <code>@my_distributed</code></a></span></li><li><span><a href=\"#printf-functions\" data-toc-modified-id=\"printf-functions-2\"><span class=\"toc-item-num\">2&nbsp;&nbsp;</span>printf functions</a></span></li><li><span><a href=\"#RemoveOneFrom(A::AbstractVector,-k::Integer)-&lt;:-AbstractVector\" data-toc-modified-id=\"RemoveOneFrom(A::AbstractVector,-k::Integer)-<:-AbstractVector-3\"><span class=\"toc-item-num\">3&nbsp;&nbsp;</span><code>RemoveOneFrom(A::AbstractVector, k::Integer) &lt;: AbstractVector</code></a></span></li><li><span><a href=\"#@savevar-and-@loadvar\" data-toc-modified-id=\"@savevar-and-@loadvar-4\"><span class=\"toc-item-num\">4&nbsp;&nbsp;</span><code>@savevar</code> and <code>@loadvar</code></a></span></li><li><span><a href=\"#@defunpack\" data-toc-modified-id=\"@defunpack-5\"><span class=\"toc-item-num\">5&nbsp;&nbsp;</span><code>@defunpack</code></a></span></li></ul></div>"
   ]
  },
  {
   "cell_type": "code",
   "execution_count": 1,
   "metadata": {},
   "outputs": [
    {
     "name": "stdout",
     "output_type": "stream",
     "text": [
      "VERSION = v\"1.7.0-beta3.0\"\n"
     ]
    },
    {
     "name": "stderr",
     "output_type": "stream",
     "text": [
      "┌ Info: Precompiling MyUtils [a905a9d9-1f33-49e1-8b11-bf004baf7ee1]\n",
      "└ @ Base loading.jl:1423\n"
     ]
    }
   ],
   "source": [
    "@show VERSION\n",
    "isfile(\"Project.toml\") && using Revise\n",
    "using MyUtils"
   ]
  },
  {
   "cell_type": "markdown",
   "metadata": {},
   "source": [
    "## `@my_threads` and `@my_distributed`"
   ]
  },
  {
   "cell_type": "code",
   "execution_count": 2,
   "metadata": {},
   "outputs": [
    {
     "name": "stdout",
     "output_type": "stream",
     "text": [
      "nthreads() = 12\n"
     ]
    }
   ],
   "source": [
    "using Base.Threads\n",
    "using Distributed\n",
    "using Random\n",
    "\n",
    "@show nthreads();"
   ]
  },
  {
   "cell_type": "code",
   "execution_count": 3,
   "metadata": {},
   "outputs": [
    {
     "data": {
      "text/latex": [
       "\\begin{verbatim}\n",
       "@my_threads\n",
       "\\end{verbatim}\n",
       "A macro to parallelize a \\texttt{for} loop to run with multiple threads.  It splits the iteration space among multiple tasks with \\texttt{prebody} and \\texttt{postbody}. It runs those tasks on threads according to a scheduling policy.\n",
       "\n",
       "Usage:\n",
       "\n",
       "\\begin{verbatim}\n",
       "@my_threads [schedule] begin\n",
       "    prebody\n",
       "end for ...\n",
       "    ...\n",
       "end begin\n",
       "    postbody\n",
       "end\n",
       "\\end{verbatim}\n"
      ],
      "text/markdown": [
       "```\n",
       "@my_threads\n",
       "```\n",
       "\n",
       "A macro to parallelize a `for` loop to run with multiple threads.  It splits the iteration space among multiple tasks with `prebody` and `postbody`. It runs those tasks on threads according to a scheduling policy.\n",
       "\n",
       "Usage:\n",
       "\n",
       "```julia\n",
       "@my_threads [schedule] begin\n",
       "    prebody\n",
       "end for ...\n",
       "    ...\n",
       "end begin\n",
       "    postbody\n",
       "end\n",
       "```\n"
      ],
      "text/plain": [
       "\u001b[36m  @my_threads\u001b[39m\n",
       "\n",
       "  A macro to parallelize a \u001b[36mfor\u001b[39m loop to run with multiple threads. It splits\n",
       "  the iteration space among multiple tasks with \u001b[36mprebody\u001b[39m and \u001b[36mpostbody\u001b[39m. It runs\n",
       "  those tasks on threads according to a scheduling policy.\n",
       "\n",
       "  Usage:\n",
       "\n",
       "\u001b[36m  @my_threads [schedule] begin\u001b[39m\n",
       "\u001b[36m      prebody\u001b[39m\n",
       "\u001b[36m  end for ...\u001b[39m\n",
       "\u001b[36m      ...\u001b[39m\n",
       "\u001b[36m  end begin\u001b[39m\n",
       "\u001b[36m      postbody\u001b[39m\n",
       "\u001b[36m  end\u001b[39m"
      ]
     },
     "execution_count": 3,
     "metadata": {},
     "output_type": "execute_result"
    }
   ],
   "source": [
    "?MyUtils.@my_threads"
   ]
  },
  {
   "cell_type": "code",
   "execution_count": 4,
   "metadata": {},
   "outputs": [
    {
     "data": {
      "text/latex": [
       "\\begin{verbatim}\n",
       "@my_distributed\n",
       "\\end{verbatim}\n",
       "A distributed memory, parallel for loop of the form:\n",
       "\n",
       "\\begin{verbatim}\n",
       "@my_distributed begin\n",
       "    prebody\n",
       "end [reducer] for var = range\n",
       "    body\n",
       "end\n",
       "\\end{verbatim}\n"
      ],
      "text/markdown": [
       "```\n",
       "@my_distributed\n",
       "```\n",
       "\n",
       "A distributed memory, parallel for loop of the form:\n",
       "\n",
       "```julia\n",
       "@my_distributed begin\n",
       "    prebody\n",
       "end [reducer] for var = range\n",
       "    body\n",
       "end\n",
       "```\n"
      ],
      "text/plain": [
       "\u001b[36m  @my_distributed\u001b[39m\n",
       "\n",
       "  A distributed memory, parallel for loop of the form:\n",
       "\n",
       "\u001b[36m  @my_distributed begin\u001b[39m\n",
       "\u001b[36m      prebody\u001b[39m\n",
       "\u001b[36m  end [reducer] for var = range\u001b[39m\n",
       "\u001b[36m      body\u001b[39m\n",
       "\u001b[36m  end\u001b[39m"
      ]
     },
     "execution_count": 4,
     "metadata": {},
     "output_type": "execute_result"
    }
   ],
   "source": [
    "?MyUtils.@my_distributed"
   ]
  },
  {
   "cell_type": "code",
   "execution_count": 5,
   "metadata": {},
   "outputs": [
    {
     "name": "stdout",
     "output_type": "stream",
     "text": [
      "  0.293152 seconds\n",
      "  0.285791 seconds\n",
      "  0.280595 seconds\n"
     ]
    },
    {
     "data": {
      "text/plain": [
       "3.14171044"
      ]
     },
     "execution_count": 5,
     "metadata": {},
     "output_type": "execute_result"
    }
   ],
   "source": [
    "function mcpi(N)\n",
    "    rng = Random.default_rng()\n",
    "    c = 0\n",
    "    for i in 1:N\n",
    "        c += ifelse(rand(rng)^2 + rand(rng)^2 ≤ 1, 1, 0)\n",
    "    end\n",
    "    4c/N\n",
    "end\n",
    "\n",
    "@time mcpi(10^8)\n",
    "@time mcpi(10^8)\n",
    "@time mcpi(10^8)"
   ]
  },
  {
   "cell_type": "code",
   "execution_count": 6,
   "metadata": {},
   "outputs": [
    {
     "name": "stdout",
     "output_type": "stream",
     "text": [
      "  0.088797 seconds (59.81 k allocations: 3.130 MiB, 43.97% compilation time)\n",
      "  0.076956 seconds (80 allocations: 7.969 KiB)\n",
      "  0.064889 seconds (79 allocations: 7.609 KiB)\n"
     ]
    },
    {
     "data": {
      "text/plain": [
       "3.14163304"
      ]
     },
     "execution_count": 6,
     "metadata": {},
     "output_type": "execute_result"
    }
   ],
   "source": [
    "function mcpi_my_threads(N)\n",
    "    a = Atomic{Int}(0)\n",
    "    MyUtils.@my_threads begin\n",
    "        rng = Random.default_rng()\n",
    "        c = 0\n",
    "    end for i in 1:N\n",
    "        c += ifelse(rand(rng)^2 + rand(rng)^2 ≤ 1, 1, 0)\n",
    "    end begin\n",
    "        atomic_add!(a, c)\n",
    "    end\n",
    "    4a[]/N\n",
    "end\n",
    "\n",
    "@time mcpi_my_threads(10^8)\n",
    "@time mcpi_my_threads(10^8)\n",
    "@time mcpi_my_threads(10^8)"
   ]
  },
  {
   "cell_type": "code",
   "execution_count": 7,
   "metadata": {},
   "outputs": [
    {
     "name": "stdout",
     "output_type": "stream",
     "text": [
      "workers() = [2, 3, 4, 5, 6, 7, 8, 9, 10, 11, 12, 13]\n"
     ]
    }
   ],
   "source": [
    "rmprocs(procs()[2:end])\n",
    "addprocs(nthreads())\n",
    "@show workers()\n",
    "\n",
    "@everywhere begin\n",
    "    using MyUtils\n",
    "    using Random\n",
    "end"
   ]
  },
  {
   "cell_type": "code",
   "execution_count": 8,
   "metadata": {},
   "outputs": [
    {
     "name": "stdout",
     "output_type": "stream",
     "text": [
      "  1.183088 seconds (984.30 k allocations: 52.697 MiB, 0.60% gc time, 16.80% compilation time)\n",
      "  0.057342 seconds (964 allocations: 40.672 KiB)\n",
      "  0.048361 seconds (975 allocations: 41.391 KiB)\n"
     ]
    },
    {
     "data": {
      "text/plain": [
       "3.14134508"
      ]
     },
     "execution_count": 8,
     "metadata": {},
     "output_type": "execute_result"
    }
   ],
   "source": [
    "function mcpi_my_distributed(N)\n",
    "    c = MyUtils.@my_distributed begin\n",
    "        rng = Random.default_rng()\n",
    "    end (+) for i in 1:N\n",
    "        ifelse(rand(rng)^2 + rand(rng)^2 ≤ 1, 1, 0)\n",
    "    end\n",
    "    4c/N\n",
    "end\n",
    "\n",
    "@time mcpi_my_distributed(10^8)\n",
    "@time mcpi_my_distributed(10^8)\n",
    "@time mcpi_my_distributed(10^8)"
   ]
  },
  {
   "cell_type": "code",
   "execution_count": 9,
   "metadata": {},
   "outputs": [
    {
     "name": "stdout",
     "output_type": "stream",
     "text": [
      "  280.414 ms (0 allocations: 0 bytes)\n",
      "  48.456 ms (73 allocations: 7.45 KiB)\n",
      "  48.405 ms (964 allocations: 40.67 KiB)\n"
     ]
    },
    {
     "data": {
      "text/plain": [
       "3.14148876"
      ]
     },
     "execution_count": 9,
     "metadata": {},
     "output_type": "execute_result"
    }
   ],
   "source": [
    "using BenchmarkTools\n",
    "\n",
    "@btime mcpi(10^8)\n",
    "@btime mcpi_my_threads(10^8)\n",
    "@btime mcpi_my_distributed(10^8)"
   ]
  },
  {
   "cell_type": "code",
   "execution_count": 10,
   "metadata": {},
   "outputs": [
    {
     "name": "stdout",
     "output_type": "stream",
     "text": [
      "workers() = [1]\n"
     ]
    }
   ],
   "source": [
    "rmprocs(procs()[2:end])\n",
    "@show workers();"
   ]
  },
  {
   "cell_type": "markdown",
   "metadata": {},
   "source": [
    "## printf functions"
   ]
  },
  {
   "cell_type": "code",
   "execution_count": 11,
   "metadata": {},
   "outputs": [
    {
     "name": "stdout",
     "output_type": "stream",
     "text": [
      "3\n",
      "3.1\n",
      "3.14\n",
      "3.142\n",
      "3.1416\n",
      "3.14159\n",
      "3.141593\n",
      "3.1415927\n",
      "3.14159265\n",
      "3.141592654\n",
      "3.1415926536\n"
     ]
    }
   ],
   "source": [
    "for k in 0:10\n",
    "    printf(\"%.$(k)f\\n\", π)\n",
    "end"
   ]
  },
  {
   "cell_type": "code",
   "execution_count": 12,
   "metadata": {},
   "outputs": [
    {
     "data": {
      "text/plain": [
       "11-element Vector{String}:\n",
       " \"3\"\n",
       " \"3.1\"\n",
       " \"3.14\"\n",
       " \"3.142\"\n",
       " \"3.1416\"\n",
       " \"3.14159\"\n",
       " \"3.141593\"\n",
       " \"3.1415927\"\n",
       " \"3.14159265\"\n",
       " \"3.141592654\"\n",
       " \"3.1415926536\""
      ]
     },
     "execution_count": 12,
     "metadata": {},
     "output_type": "execute_result"
    }
   ],
   "source": [
    "[sprintf(\"%.$(k)f\", π) for k in 0:10]"
   ]
  },
  {
   "cell_type": "markdown",
   "metadata": {},
   "source": [
    "## `RemoveOneFrom(A::AbstractVector, k::Integer) <: AbstractVector`"
   ]
  },
  {
   "cell_type": "code",
   "execution_count": 13,
   "metadata": {},
   "outputs": [
    {
     "data": {
      "text/latex": [
       "\\begin{verbatim}\n",
       "RemoveOneFrom(A::AbstractVector, k::Integer) <: AbstractVector\n",
       "\\end{verbatim}\n",
       "Equivalent to A[[1:k-1; k+1:end]] without unnecessary memory allocation.\n",
       "\n",
       "Example\n",
       "\n",
       "\\begin{verbatim}\n",
       "A = [1, 2, 3, 4, 5]\n",
       "R = RemoveOneFrom(A, 3)\n",
       "@show collect(R)\n",
       "# -> collect(R) = [1, 2, 4, 5]\n",
       "R[3] = 99\n",
       "@show R\n",
       "# -> R = [1, 2, 99, 5]\n",
       "@show A\n",
       "# -> A = [1, 2, 3, 99, 5]\n",
       "\\end{verbatim}\n"
      ],
      "text/markdown": [
       "```\n",
       "RemoveOneFrom(A::AbstractVector, k::Integer) <: AbstractVector\n",
       "```\n",
       "\n",
       "Equivalent to A[[1:k-1; k+1:end]] without unnecessary memory allocation.\n",
       "\n",
       "Example\n",
       "\n",
       "```julia\n",
       "A = [1, 2, 3, 4, 5]\n",
       "R = RemoveOneFrom(A, 3)\n",
       "@show collect(R)\n",
       "# -> collect(R) = [1, 2, 4, 5]\n",
       "R[3] = 99\n",
       "@show R\n",
       "# -> R = [1, 2, 99, 5]\n",
       "@show A\n",
       "# -> A = [1, 2, 3, 99, 5]\n",
       "```\n"
      ],
      "text/plain": [
       "\u001b[36m  RemoveOneFrom(A::AbstractVector, k::Integer) <: AbstractVector\u001b[39m\n",
       "\n",
       "  Equivalent to A[[1:k-1; k+1:end]] without unnecessary memory allocation.\n",
       "\n",
       "  Example\n",
       "\n",
       "\u001b[36m  A = [1, 2, 3, 4, 5]\u001b[39m\n",
       "\u001b[36m  R = RemoveOneFrom(A, 3)\u001b[39m\n",
       "\u001b[36m  @show collect(R)\u001b[39m\n",
       "\u001b[36m  # -> collect(R) = [1, 2, 4, 5]\u001b[39m\n",
       "\u001b[36m  R[3] = 99\u001b[39m\n",
       "\u001b[36m  @show R\u001b[39m\n",
       "\u001b[36m  # -> R = [1, 2, 99, 5]\u001b[39m\n",
       "\u001b[36m  @show A\u001b[39m\n",
       "\u001b[36m  # -> A = [1, 2, 3, 99, 5]\u001b[39m"
      ]
     },
     "execution_count": 13,
     "metadata": {},
     "output_type": "execute_result"
    }
   ],
   "source": [
    "@doc MyUtils.RemoveOneFrom"
   ]
  },
  {
   "cell_type": "code",
   "execution_count": 14,
   "metadata": {},
   "outputs": [
    {
     "name": "stdout",
     "output_type": "stream",
     "text": [
      "collect(R) = [1, 2, 4, 5]\n",
      "R = [1, 2, 99, 5]\n",
      "A = [1, 2, 3, 99, 5]\n"
     ]
    }
   ],
   "source": [
    "A = [1, 2, 3, 4, 5]\n",
    "R = MyUtils.RemoveOneFrom(A, 3)\n",
    "@show collect(R)\n",
    "R[3] = 99\n",
    "@show R\n",
    "@show A;"
   ]
  },
  {
   "cell_type": "code",
   "execution_count": 15,
   "metadata": {},
   "outputs": [
    {
     "name": "stdout",
     "output_type": "stream",
     "text": [
      "  0.012482 seconds (303 allocations: 15.276 MiB, 70.58% compilation time)\n",
      "  0.009621 seconds (9 allocations: 15.259 MiB, 61.73% gc time)\n",
      "  0.003841 seconds (9 allocations: 15.259 MiB)\n",
      "\n",
      "  0.015765 seconds (23.72 k allocations: 8.860 MiB, 88.98% compilation time)\n",
      "  0.007379 seconds (8 allocations: 7.630 MiB, 76.72% gc time)\n",
      "  0.001648 seconds (8 allocations: 7.630 MiB)\n",
      "\n",
      "  0.000002 seconds (1 allocation: 32 bytes)\n",
      "  0.000002 seconds (1 allocation: 32 bytes)\n",
      "  0.000002 seconds (1 allocation: 32 bytes)\n"
     ]
    }
   ],
   "source": [
    "A = collect(1:10^6)\n",
    "k = 5*10^5\n",
    "@time A[[1:k-1; k+1:end]]\n",
    "@time A[[1:k-1; k+1:end]]\n",
    "@time A[[1:k-1; k+1:end]]\n",
    "println()\n",
    "@time @view A[[1:k-1; k+1:end]]\n",
    "@time @view A[[1:k-1; k+1:end]]\n",
    "@time @view A[[1:k-1; k+1:end]]\n",
    "println()\n",
    "@time MyUtils.RemoveOneFrom(A, k)\n",
    "@time MyUtils.RemoveOneFrom(A, k)\n",
    "@time MyUtils.RemoveOneFrom(A, k);"
   ]
  },
  {
   "cell_type": "markdown",
   "metadata": {},
   "source": [
    "## `@savevar` and `@loadvar`"
   ]
  },
  {
   "cell_type": "code",
   "execution_count": 16,
   "metadata": {},
   "outputs": [
    {
     "data": {
      "text/plain": [
       "\"tmp\""
      ]
     },
     "execution_count": 16,
     "metadata": {},
     "output_type": "execute_result"
    }
   ],
   "source": [
    "using MyUtils: dir_savevar, @savevar, @loadvar\n",
    "dir_savevar[] = \"tmp\""
   ]
  },
  {
   "cell_type": "code",
   "execution_count": 17,
   "metadata": {},
   "outputs": [
    {
     "name": "stdout",
     "output_type": "stream",
     "text": [
      "x = [0.6139627109171718 + 0.28881204108997827im -0.702730328235708 + 0.8559736028023069im 0.14663020936127483 + 0.7498128557650708im; 0.5956800792827293 - 0.8906783007866128im 0.28211812938862985 - 0.40988464126274915im -0.6470657107865254 + 0.22378412696989403im; 0.08044299916390557 + 0.17968561891711088im 0.31648387135283207 - 0.7446555793850927im 0.30662299351312033 - 0.4195718266129384im; -1.1258631093926221 + 0.21712283581037484im 1.1662912804139092 + 1.2965115750691512im -0.371648943046625 + 1.2600742724940495im;;; 0.3862995751786956 - 1.6414457699539118im 1.3121254331775718 + 0.8139596278083623im -1.2188912807602623 - 0.7951558084918605im; -0.4276250941959636 + 0.30747771286547565im -0.21139027402447005 + 0.23986442754993378im 0.7894121227507885 - 0.9681327534683507im; 0.2782923253259139 - 0.252931480521629im 1.2158580545213769 + 0.9364885079745994im -0.019124302112682224 - 0.35839515408272554im; 0.8614378930030232 + 0.2631196409355939im 0.4751692544034696 - 0.07802820622618017im -0.9465755208411036 + 0.5357468618775187im]\n",
      "y = [\"x8x31b50pw\", \"HLiABYafOZ\", \"Vg0l6os6GW\", \"58q2UKxJgz\", \"zW7dVmMoyN\", \"ByHgqfDdSh\", \"I6CFNHn1Y9\", \"4V503tRrLN\", \"yWfRP1AtuT\", \"zi66QxlzXu\", \"Lsqx36bNd2\", \"BnXTqPuhhS\", \"G6AdqtAnBq\", \"pvUcPsJUg9\", \"bAA6IfCNK6\", \"pjHd1pSeuV\", \"xrYVYmj22v\", \"cn4kxMdqok\", \"eygnQ6VZlp\", \"CL0ozJNMVg\", \"zAhEK9vBIv\", \"isGR8xnJgy\", \"m7ellUYjn1\", \"kBrnfxocTR\", \"fmazYkVBVL\", \"5WK4N5U0Wz\", \"zpjPbPgdWG\", \"4IiBYTaCem\", \"9pQDWNz4F2\", \"bXOsYrxhS1\", \"NT5jwC134G\", \"JrrNnLVa2Q\", \"r4dIvh7LlN\", \"bixGLw38ZO\", \"pm0bW0PKKe\", \"RczpxornAh\", \"bBUQycVK88\", \"9dE5D5bqo3\", \"cvspW8ptuE\", \"wNvhx1vKG9\", \"sXnbFk1lB9\", \"sMSSRGdjXA\", \"XjY5W36Wro\", \"y8oKQ7MSTz\", \"6inL5YLjx6\", \"Wl7SFPPbsZ\", \"xkgp29kitQ\", \"YppeiRZLTU\", \"kuy3KWL7Ho\", \"gn6uqrdXiO\"]\n"
     ]
    }
   ],
   "source": [
    "Random.seed!(4649373)\n",
    "\n",
    "x = randn(ComplexF64, 4, 3, 2)\n",
    "y = [randstring(10) for i in 1:50]\n",
    "@show x y;"
   ]
  },
  {
   "cell_type": "code",
   "execution_count": 18,
   "metadata": {},
   "outputs": [],
   "source": [
    "@savevar x y"
   ]
  },
  {
   "cell_type": "code",
   "execution_count": 19,
   "metadata": {},
   "outputs": [
    {
     "data": {
      "text/plain": [
       "\"[0.6139627109171718 + 0.28881204108997827im -0.702730328235708 + 0.8559736028023069im 0.14663020936127483 + 0.7498128557650708im; 0.5956800792827293 - 0.8906783007866128im 0.28211812938862985 - 0.40988464126274915im -0.6470657107865254 + 0.22378412696989403im; 0.08044299\" ⋯ 500 bytes ⋯ \"34683507im; 0.2782923253259139 - 0.252931480521629im 1.2158580545213769 + 0.9364885079745994im -0.019124302112682224 - 0.35839515408272554im; 0.8614378930030232 + 0.2631196409355939im 0.4751692544034696 - 0.07802820622618017im -0.9465755208411036 + 0.5357468618775187im]\""
      ]
     },
     "execution_count": 19,
     "metadata": {},
     "output_type": "execute_result"
    }
   ],
   "source": [
    "read(joinpath(dir_savevar[], \"x.txt\"), String)"
   ]
  },
  {
   "cell_type": "code",
   "execution_count": 20,
   "metadata": {},
   "outputs": [
    {
     "data": {
      "text/plain": [
       "\"[\\\"x8x31b50pw\\\", \\\"HLiABYafOZ\\\", \\\"Vg0l6os6GW\\\", \\\"58q2UKxJgz\\\", \\\"zW7dVmMoyN\\\", \\\"ByHgqfDdSh\\\", \\\"I6CFNHn1Y9\\\", \\\"4V503tRrLN\\\", \\\"yWfRP1AtuT\\\", \\\"zi66QxlzXu\\\", \\\"Lsqx36bNd2\\\", \\\"BnXTqPuhhS\\\", \\\"G6AdqtAnBq\\\", \\\"pvUcPsJUg9\\\", \\\"bAA6IfCNK6\\\", \\\"pjHd1pSeuV\\\", \\\"xrYVYmj22v\\\", \\\"cn4kxMdqok\\\", \\\"eygnQ6VZlp\\\", \\\"CL0\" ⋯ 159 bytes ⋯ \"4G\\\", \\\"JrrNnLVa2Q\\\", \\\"r4dIvh7LlN\\\", \\\"bixGLw38ZO\\\", \\\"pm0bW0PKKe\\\", \\\"RczpxornAh\\\", \\\"bBUQycVK88\\\", \\\"9dE5D5bqo3\\\", \\\"cvspW8ptuE\\\", \\\"wNvhx1vKG9\\\", \\\"sXnbFk1lB9\\\", \\\"sMSSRGdjXA\\\", \\\"XjY5W36Wro\\\", \\\"y8oKQ7MSTz\\\", \\\"6inL5YLjx6\\\", \\\"Wl7SFPPbsZ\\\", \\\"xkgp29kitQ\\\", \\\"YppeiRZLTU\\\", \\\"kuy3KWL7Ho\\\", \\\"gn6uqrdXiO\\\"]\""
      ]
     },
     "execution_count": 20,
     "metadata": {},
     "output_type": "execute_result"
    }
   ],
   "source": [
    "read(joinpath(dir_savevar[], \"y.txt\"), String)"
   ]
  },
  {
   "cell_type": "code",
   "execution_count": 21,
   "metadata": {},
   "outputs": [
    {
     "name": "stdout",
     "output_type": "stream",
     "text": [
      "X = [0.6139627109171718 + 0.28881204108997827im -0.702730328235708 + 0.8559736028023069im 0.14663020936127483 + 0.7498128557650708im; 0.5956800792827293 - 0.8906783007866128im 0.28211812938862985 - 0.40988464126274915im -0.6470657107865254 + 0.22378412696989403im; 0.08044299916390557 + 0.17968561891711088im 0.31648387135283207 - 0.7446555793850927im 0.30662299351312033 - 0.4195718266129384im; -1.1258631093926221 + 0.21712283581037484im 1.1662912804139092 + 1.2965115750691512im -0.371648943046625 + 1.2600742724940495im;;; 0.3862995751786956 - 1.6414457699539118im 1.3121254331775718 + 0.8139596278083623im -1.2188912807602623 - 0.7951558084918605im; -0.4276250941959636 + 0.30747771286547565im -0.21139027402447005 + 0.23986442754993378im 0.7894121227507885 - 0.9681327534683507im; 0.2782923253259139 - 0.252931480521629im 1.2158580545213769 + 0.9364885079745994im -0.019124302112682224 - 0.35839515408272554im; 0.8614378930030232 + 0.2631196409355939im 0.4751692544034696 - 0.07802820622618017im -0.9465755208411036 + 0.5357468618775187im]\n",
      "Y = [\"x8x31b50pw\", \"HLiABYafOZ\", \"Vg0l6os6GW\", \"58q2UKxJgz\", \"zW7dVmMoyN\", \"ByHgqfDdSh\", \"I6CFNHn1Y9\", \"4V503tRrLN\", \"yWfRP1AtuT\", \"zi66QxlzXu\", \"Lsqx36bNd2\", \"BnXTqPuhhS\", \"G6AdqtAnBq\", \"pvUcPsJUg9\", \"bAA6IfCNK6\", \"pjHd1pSeuV\", \"xrYVYmj22v\", \"cn4kxMdqok\", \"eygnQ6VZlp\", \"CL0ozJNMVg\", \"zAhEK9vBIv\", \"isGR8xnJgy\", \"m7ellUYjn1\", \"kBrnfxocTR\", \"fmazYkVBVL\", \"5WK4N5U0Wz\", \"zpjPbPgdWG\", \"4IiBYTaCem\", \"9pQDWNz4F2\", \"bXOsYrxhS1\", \"NT5jwC134G\", \"JrrNnLVa2Q\", \"r4dIvh7LlN\", \"bixGLw38ZO\", \"pm0bW0PKKe\", \"RczpxornAh\", \"bBUQycVK88\", \"9dE5D5bqo3\", \"cvspW8ptuE\", \"wNvhx1vKG9\", \"sXnbFk1lB9\", \"sMSSRGdjXA\", \"XjY5W36Wro\", \"y8oKQ7MSTz\", \"6inL5YLjx6\", \"Wl7SFPPbsZ\", \"xkgp29kitQ\", \"YppeiRZLTU\", \"kuy3KWL7Ho\", \"gn6uqrdXiO\"]\n"
     ]
    }
   ],
   "source": [
    "X, Y = @loadvar x y\n",
    "@show X Y;"
   ]
  },
  {
   "cell_type": "code",
   "execution_count": 22,
   "metadata": {},
   "outputs": [
    {
     "data": {
      "text/plain": [
       "true"
      ]
     },
     "execution_count": 22,
     "metadata": {},
     "output_type": "execute_result"
    }
   ],
   "source": [
    "(X, Y) == (x, y)"
   ]
  },
  {
   "cell_type": "markdown",
   "metadata": {},
   "source": [
    "## `@defunpack`"
   ]
  },
  {
   "cell_type": "code",
   "execution_count": 23,
   "metadata": {},
   "outputs": [
    {
     "data": {
      "text/latex": [
       "The \\texttt{DefUnPack} module only exports the \\texttt{@defunpack} macro, which defines a macro unpacking properties of an object.\n",
       "\n",
       "\\textbf{Simple Intended Usage:}\n",
       "\n",
       "\\begin{verbatim}\n",
       "julia> using .DefUnPack\n",
       "\n",
       "julia> struct Foo{A, B, C} a::A; b::B; c::C end\n",
       "\n",
       "julia> @defunpack all_Foo Foo\n",
       "@unpackall_Foo (macro with 1 method)\n",
       "\n",
       "help?> @unpackall_Foo\n",
       "@unpackall_Foo(obj) unpacks the fields (:a, :b, :c) of obj.\n",
       "\n",
       "julia> @macroexpand @unpackall_Foo foo\n",
       ":((a, b, c) = (foo.a, foo.b, foo.c))\n",
       "\n",
       "julia> @unpackall_Foo Foo(1, 2.0, \"three\")\n",
       "(1, 2.0, \"three\")\n",
       "\n",
       "julia> a, b, c\n",
       "(1, 2.0, \"three\")\n",
       "\\end{verbatim}\n"
      ],
      "text/markdown": [
       "The `DefUnPack` module only exports the `@defunpack` macro, which defines a macro unpacking properties of an object.\n",
       "\n",
       "**Simple Intended Usage:**\n",
       "\n",
       "```julia\n",
       "julia> using .DefUnPack\n",
       "\n",
       "julia> struct Foo{A, B, C} a::A; b::B; c::C end\n",
       "\n",
       "julia> @defunpack all_Foo Foo\n",
       "@unpackall_Foo (macro with 1 method)\n",
       "\n",
       "help?> @unpackall_Foo\n",
       "@unpackall_Foo(obj) unpacks the fields (:a, :b, :c) of obj.\n",
       "\n",
       "julia> @macroexpand @unpackall_Foo foo\n",
       ":((a, b, c) = (foo.a, foo.b, foo.c))\n",
       "\n",
       "julia> @unpackall_Foo Foo(1, 2.0, \"three\")\n",
       "(1, 2.0, \"three\")\n",
       "\n",
       "julia> a, b, c\n",
       "(1, 2.0, \"three\")\n",
       "```\n"
      ],
      "text/plain": [
       "  The \u001b[36mDefUnPack\u001b[39m module only exports the \u001b[36m@defunpack\u001b[39m macro, which defines a\n",
       "  macro unpacking properties of an object.\n",
       "\n",
       "  \u001b[1mSimple Intended Usage:\u001b[22m\n",
       "\n",
       "\u001b[36m  julia> using .DefUnPack\u001b[39m\n",
       "\u001b[36m  \u001b[39m\n",
       "\u001b[36m  julia> struct Foo{A, B, C} a::A; b::B; c::C end\u001b[39m\n",
       "\u001b[36m  \u001b[39m\n",
       "\u001b[36m  julia> @defunpack all_Foo Foo\u001b[39m\n",
       "\u001b[36m  @unpackall_Foo (macro with 1 method)\u001b[39m\n",
       "\u001b[36m  \u001b[39m\n",
       "\u001b[36m  help?> @unpackall_Foo\u001b[39m\n",
       "\u001b[36m  @unpackall_Foo(obj) unpacks the fields (:a, :b, :c) of obj.\u001b[39m\n",
       "\u001b[36m  \u001b[39m\n",
       "\u001b[36m  julia> @macroexpand @unpackall_Foo foo\u001b[39m\n",
       "\u001b[36m  :((a, b, c) = (foo.a, foo.b, foo.c))\u001b[39m\n",
       "\u001b[36m  \u001b[39m\n",
       "\u001b[36m  julia> @unpackall_Foo Foo(1, 2.0, \"three\")\u001b[39m\n",
       "\u001b[36m  (1, 2.0, \"three\")\u001b[39m\n",
       "\u001b[36m  \u001b[39m\n",
       "\u001b[36m  julia> a, b, c\u001b[39m\n",
       "\u001b[36m  (1, 2.0, \"three\")\u001b[39m"
      ]
     },
     "execution_count": 23,
     "metadata": {},
     "output_type": "execute_result"
    }
   ],
   "source": [
    "@doc MyUtils.DefUnPack"
   ]
  },
  {
   "cell_type": "code",
   "execution_count": 24,
   "metadata": {},
   "outputs": [
    {
     "data": {
      "text/latex": [
       "\\begin{verbatim}\n",
       "@defunpack(name::Symbol, expr)\n",
       "\\end{verbatim}\n",
       "defines the macro named \\texttt{Symbol(:unpack, name)} which unpacks the properties specified by \\texttt{expr} of an object.\n",
       "\n",
       "Let \\texttt{val} be the value of \\texttt{expr}. Then the list of the unpacking properties is set to\n",
       "\n",
       "\\begin{itemize}\n",
       "\\item \\texttt{val} if \\texttt{val} is a tuple of symbols,\n",
       "\n",
       "\n",
       "\\item \\texttt{fieldnames(val)} if \\texttt{val} is a type,\n",
       "\n",
       "\n",
       "\\item \\texttt{propertynames(val)} otherwise.\n",
       "\n",
       "\\end{itemize}\n",
       "\\subsubsection{Example}\n",
       "\\begin{verbatim}\n",
       "julia> @defunpack _cat_and_dog (:cat, :dog)\n",
       "@unpack_cat_and_dog (macro with 1 method)\n",
       "\n",
       "help?> @unpack_cat_and_dog\n",
       "@unpack_cat_and_dog(obj) unpacks the fields (:cat, :dog) of obj.\n",
       "\n",
       "julia> @macroexpand @unpack_cat_and_dog x\n",
       ":((cat, dog) = (x.cat, x.dog))\n",
       "\n",
       "julia> @unpack_cat_and_dog (dog = \"bowwow\", mouse = \"squeak\", cat = \"meow\")\n",
       "(\"meow\", \"bowwow\")\n",
       "\n",
       "julia> cat, dog\n",
       "(\"meow\", \"bowwow\")\n",
       "\n",
       "julia> struct Foo{A, B, C} a::A; b::B; c::C end\n",
       "\n",
       "julia> @defunpack all_Foo Foo\n",
       "@unpackall_Foo (macro with 1 method)\n",
       "\n",
       "help?> @unpackall_Foo\n",
       "@unpackall_Foo(obj) unpacks the fields (:a, :b, :c) of obj.\n",
       "\n",
       "julia> @macroexpand @unpackall_Foo foo\n",
       ":((a, b, c) = (foo.a, foo.b, foo.c))\n",
       "\n",
       "julia> @unpackall_Foo Foo(1, 2.0, \"three\")\n",
       "(1, 2.0, \"three\")\n",
       "\n",
       "julia> a, b, c\n",
       "(1, 2.0, \"three\")\n",
       "\n",
       "julia> baz = (p = \"one\", q = 2.0, r = 3)\n",
       "\n",
       "julia> @defunpack all_baz baz\n",
       "@unpackall_baz (macro with 1 method)\n",
       "\n",
       "help?> @unpackall_baz\n",
       "@unpackall_baz(obj) unpacks the fields (:p, :q, :r) of obj.\n",
       "\n",
       "julia> @macroexpand @unpackall_baz baz\n",
       ":((p, q, r) = (baz.p, baz.q, baz.r))\n",
       "\n",
       "julia> @unpackall_baz baz\n",
       "(\"one\", '2', 3)\n",
       "\n",
       "julia> p, q, r\n",
       "(\"one\", '2', 3)\n",
       "\\end{verbatim}\n",
       "\\subsubsection{Appendix}\n",
       "Instead of using \\texttt{@defunpack}, we can also define the unpacking macro directly as follows:\n",
       "\n",
       "\\begin{verbatim}\n",
       "struct Foo{A, B, C} a::A; b::B; c::C end\n",
       "\n",
       "\"\"\"\n",
       "`@unpackall_Foo(obj)` unpacks all fields of the object `obj` of type `Foo`.\n",
       "\"\"\"\n",
       "macro unpackall_Foo(obj)\n",
       "    names = fieldnames(Foo)\n",
       "    Expr(:(=),\n",
       "        Expr(:tuple, names...),\n",
       "        Expr(:tuple, (:($obj.$name) for name in names)...)\n",
       "    ) |> esc\n",
       "end\n",
       "\n",
       "@macroexpand @unpackall_Foo foo\n",
       "\\end{verbatim}\n",
       "\\begin{verbatim}\n",
       ":((a, b, c) = (foo.a, foo.b, foo.c))\n",
       "\\end{verbatim}\n"
      ],
      "text/markdown": [
       "```\n",
       "@defunpack(name::Symbol, expr)\n",
       "```\n",
       "\n",
       "defines the macro named `Symbol(:unpack, name)` which unpacks the properties specified by `expr` of an object.\n",
       "\n",
       "Let `val` be the value of `expr`. Then the list of the unpacking properties is set to\n",
       "\n",
       "  * `val` if `val` is a tuple of symbols,\n",
       "  * `fieldnames(val)` if `val` is a type,\n",
       "  * `propertynames(val)` otherwise.\n",
       "\n",
       "### Example\n",
       "\n",
       "```julia\n",
       "julia> @defunpack _cat_and_dog (:cat, :dog)\n",
       "@unpack_cat_and_dog (macro with 1 method)\n",
       "\n",
       "help?> @unpack_cat_and_dog\n",
       "@unpack_cat_and_dog(obj) unpacks the fields (:cat, :dog) of obj.\n",
       "\n",
       "julia> @macroexpand @unpack_cat_and_dog x\n",
       ":((cat, dog) = (x.cat, x.dog))\n",
       "\n",
       "julia> @unpack_cat_and_dog (dog = \"bowwow\", mouse = \"squeak\", cat = \"meow\")\n",
       "(\"meow\", \"bowwow\")\n",
       "\n",
       "julia> cat, dog\n",
       "(\"meow\", \"bowwow\")\n",
       "\n",
       "julia> struct Foo{A, B, C} a::A; b::B; c::C end\n",
       "\n",
       "julia> @defunpack all_Foo Foo\n",
       "@unpackall_Foo (macro with 1 method)\n",
       "\n",
       "help?> @unpackall_Foo\n",
       "@unpackall_Foo(obj) unpacks the fields (:a, :b, :c) of obj.\n",
       "\n",
       "julia> @macroexpand @unpackall_Foo foo\n",
       ":((a, b, c) = (foo.a, foo.b, foo.c))\n",
       "\n",
       "julia> @unpackall_Foo Foo(1, 2.0, \"three\")\n",
       "(1, 2.0, \"three\")\n",
       "\n",
       "julia> a, b, c\n",
       "(1, 2.0, \"three\")\n",
       "\n",
       "julia> baz = (p = \"one\", q = 2.0, r = 3)\n",
       "\n",
       "julia> @defunpack all_baz baz\n",
       "@unpackall_baz (macro with 1 method)\n",
       "\n",
       "help?> @unpackall_baz\n",
       "@unpackall_baz(obj) unpacks the fields (:p, :q, :r) of obj.\n",
       "\n",
       "julia> @macroexpand @unpackall_baz baz\n",
       ":((p, q, r) = (baz.p, baz.q, baz.r))\n",
       "\n",
       "julia> @unpackall_baz baz\n",
       "(\"one\", '2', 3)\n",
       "\n",
       "julia> p, q, r\n",
       "(\"one\", '2', 3)\n",
       "```\n",
       "\n",
       "### Appendix\n",
       "\n",
       "Instead of using `@defunpack`, we can also define the unpacking macro directly as follows:\n",
       "\n",
       "```julia\n",
       "struct Foo{A, B, C} a::A; b::B; c::C end\n",
       "\n",
       "\"\"\"\n",
       "`@unpackall_Foo(obj)` unpacks all fields of the object `obj` of type `Foo`.\n",
       "\"\"\"\n",
       "macro unpackall_Foo(obj)\n",
       "    names = fieldnames(Foo)\n",
       "    Expr(:(=),\n",
       "        Expr(:tuple, names...),\n",
       "        Expr(:tuple, (:($obj.$name) for name in names)...)\n",
       "    ) |> esc\n",
       "end\n",
       "\n",
       "@macroexpand @unpackall_Foo foo\n",
       "```\n",
       "\n",
       "```\n",
       ":((a, b, c) = (foo.a, foo.b, foo.c))\n",
       "```\n"
      ],
      "text/plain": [
       "\u001b[36m  @defunpack(name::Symbol, expr)\u001b[39m\n",
       "\n",
       "  defines the macro named \u001b[36mSymbol(:unpack, name)\u001b[39m which unpacks the properties\n",
       "  specified by \u001b[36mexpr\u001b[39m of an object.\n",
       "\n",
       "  Let \u001b[36mval\u001b[39m be the value of \u001b[36mexpr\u001b[39m. Then the list of the unpacking properties is\n",
       "  set to\n",
       "\n",
       "    •  \u001b[36mval\u001b[39m if \u001b[36mval\u001b[39m is a tuple of symbols,\n",
       "\n",
       "    •  \u001b[36mfieldnames(val)\u001b[39m if \u001b[36mval\u001b[39m is a type,\n",
       "\n",
       "    •  \u001b[36mpropertynames(val)\u001b[39m otherwise.\n",
       "\n",
       "\u001b[1m  Example\u001b[22m\n",
       "\u001b[1m  –––––––––\u001b[22m\n",
       "\n",
       "\u001b[36m  julia> @defunpack _cat_and_dog (:cat, :dog)\u001b[39m\n",
       "\u001b[36m  @unpack_cat_and_dog (macro with 1 method)\u001b[39m\n",
       "\u001b[36m  \u001b[39m\n",
       "\u001b[36m  help?> @unpack_cat_and_dog\u001b[39m\n",
       "\u001b[36m  @unpack_cat_and_dog(obj) unpacks the fields (:cat, :dog) of obj.\u001b[39m\n",
       "\u001b[36m  \u001b[39m\n",
       "\u001b[36m  julia> @macroexpand @unpack_cat_and_dog x\u001b[39m\n",
       "\u001b[36m  :((cat, dog) = (x.cat, x.dog))\u001b[39m\n",
       "\u001b[36m  \u001b[39m\n",
       "\u001b[36m  julia> @unpack_cat_and_dog (dog = \"bowwow\", mouse = \"squeak\", cat = \"meow\")\u001b[39m\n",
       "\u001b[36m  (\"meow\", \"bowwow\")\u001b[39m\n",
       "\u001b[36m  \u001b[39m\n",
       "\u001b[36m  julia> cat, dog\u001b[39m\n",
       "\u001b[36m  (\"meow\", \"bowwow\")\u001b[39m\n",
       "\u001b[36m  \u001b[39m\n",
       "\u001b[36m  julia> struct Foo{A, B, C} a::A; b::B; c::C end\u001b[39m\n",
       "\u001b[36m  \u001b[39m\n",
       "\u001b[36m  julia> @defunpack all_Foo Foo\u001b[39m\n",
       "\u001b[36m  @unpackall_Foo (macro with 1 method)\u001b[39m\n",
       "\u001b[36m  \u001b[39m\n",
       "\u001b[36m  help?> @unpackall_Foo\u001b[39m\n",
       "\u001b[36m  @unpackall_Foo(obj) unpacks the fields (:a, :b, :c) of obj.\u001b[39m\n",
       "\u001b[36m  \u001b[39m\n",
       "\u001b[36m  julia> @macroexpand @unpackall_Foo foo\u001b[39m\n",
       "\u001b[36m  :((a, b, c) = (foo.a, foo.b, foo.c))\u001b[39m\n",
       "\u001b[36m  \u001b[39m\n",
       "\u001b[36m  julia> @unpackall_Foo Foo(1, 2.0, \"three\")\u001b[39m\n",
       "\u001b[36m  (1, 2.0, \"three\")\u001b[39m\n",
       "\u001b[36m  \u001b[39m\n",
       "\u001b[36m  julia> a, b, c\u001b[39m\n",
       "\u001b[36m  (1, 2.0, \"three\")\u001b[39m\n",
       "\u001b[36m  \u001b[39m\n",
       "\u001b[36m  julia> baz = (p = \"one\", q = 2.0, r = 3)\u001b[39m\n",
       "\u001b[36m  \u001b[39m\n",
       "\u001b[36m  julia> @defunpack all_baz baz\u001b[39m\n",
       "\u001b[36m  @unpackall_baz (macro with 1 method)\u001b[39m\n",
       "\u001b[36m  \u001b[39m\n",
       "\u001b[36m  help?> @unpackall_baz\u001b[39m\n",
       "\u001b[36m  @unpackall_baz(obj) unpacks the fields (:p, :q, :r) of obj.\u001b[39m\n",
       "\u001b[36m  \u001b[39m\n",
       "\u001b[36m  julia> @macroexpand @unpackall_baz baz\u001b[39m\n",
       "\u001b[36m  :((p, q, r) = (baz.p, baz.q, baz.r))\u001b[39m\n",
       "\u001b[36m  \u001b[39m\n",
       "\u001b[36m  julia> @unpackall_baz baz\u001b[39m\n",
       "\u001b[36m  (\"one\", '2', 3)\u001b[39m\n",
       "\u001b[36m  \u001b[39m\n",
       "\u001b[36m  julia> p, q, r\u001b[39m\n",
       "\u001b[36m  (\"one\", '2', 3)\u001b[39m\n",
       "\n",
       "\u001b[1m  Appendix\u001b[22m\n",
       "\u001b[1m  ––––––––––\u001b[22m\n",
       "\n",
       "  Instead of using \u001b[36m@defunpack\u001b[39m, we can also define the unpacking macro directly\n",
       "  as follows:\n",
       "\n",
       "\u001b[36m  struct Foo{A, B, C} a::A; b::B; c::C end\u001b[39m\n",
       "\u001b[36m  \u001b[39m\n",
       "\u001b[36m  \"\"\"\u001b[39m\n",
       "\u001b[36m  `@unpackall_Foo(obj)` unpacks all fields of the object `obj` of type `Foo`.\u001b[39m\n",
       "\u001b[36m  \"\"\"\u001b[39m\n",
       "\u001b[36m  macro unpackall_Foo(obj)\u001b[39m\n",
       "\u001b[36m      names = fieldnames(Foo)\u001b[39m\n",
       "\u001b[36m      Expr(:(=),\u001b[39m\n",
       "\u001b[36m          Expr(:tuple, names...),\u001b[39m\n",
       "\u001b[36m          Expr(:tuple, (:($obj.$name) for name in names)...)\u001b[39m\n",
       "\u001b[36m      ) |> esc\u001b[39m\n",
       "\u001b[36m  end\u001b[39m\n",
       "\u001b[36m  \u001b[39m\n",
       "\u001b[36m  @macroexpand @unpackall_Foo foo\u001b[39m\n",
       "\n",
       "\u001b[36m  :((a, b, c) = (foo.a, foo.b, foo.c))\u001b[39m"
      ]
     },
     "execution_count": 24,
     "metadata": {},
     "output_type": "execute_result"
    }
   ],
   "source": [
    "@doc @defunpack"
   ]
  },
  {
   "cell_type": "code",
   "execution_count": 25,
   "metadata": {},
   "outputs": [
    {
     "name": "stdout",
     "output_type": "stream",
     "text": [
      "macro unpackall_Foo(obj)\n",
      "    names = fieldnames(Foo)\n",
      "    Expr(:(=),\n",
      "        Expr(:tuple, names...),\n",
      "        Expr(:tuple, (:($obj.$name) for name in names)...)\n",
      "    ) |> esc\n",
      "end\n"
     ]
    }
   ],
   "source": [
    "MyUtils.DefUnPack.unpackall_Foo |> print"
   ]
  },
  {
   "cell_type": "code",
   "execution_count": null,
   "metadata": {},
   "outputs": [],
   "source": []
  }
 ],
 "metadata": {
  "@webio": {
   "lastCommId": null,
   "lastKernelId": null
  },
  "gist": {
   "data": {
    "description": "/work/MyUtils.jl/MyUtils.ipynb",
    "public": true
   },
   "id": ""
  },
  "kernelspec": {
   "display_name": "Julia 1.7.0-beta3",
   "language": "julia",
   "name": "julia-1.7"
  },
  "language_info": {
   "file_extension": ".jl",
   "mimetype": "application/julia",
   "name": "julia",
   "version": "1.7.0"
  },
  "toc": {
   "base_numbering": 1,
   "nav_menu": {},
   "number_sections": true,
   "sideBar": true,
   "skip_h1_title": true,
   "title_cell": "Table of Contents",
   "title_sidebar": "Contents",
   "toc_cell": true,
   "toc_position": {},
   "toc_section_display": true,
   "toc_window_display": false
  },
  "toc-autonumbering": true,
  "toc-showtags": false
 },
 "nbformat": 4,
 "nbformat_minor": 4
}
